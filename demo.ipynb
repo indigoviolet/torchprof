{
 "cells": [
  {
   "cell_type": "code",
   "execution_count": 1,
   "id": "sought-point",
   "metadata": {
    "collapsed": false
   },
   "outputs": [],
   "source": [
    "%reload_ext autoreload\n",
    "%autoreload 2\n",
    "\n",
    "from IPython.core.interactiveshell import InteractiveShell\n",
    "InteractiveShell.ast_node_interactivity = \"all\""
   ]
  },
  {
   "cell_type": "code",
   "execution_count": 2,
   "id": "antique-oakland",
   "metadata": {
    "collapsed": false
   },
   "outputs": [
    {
     "name": "stderr",
     "output_type": "stream",
     "text": [
      "\r",
      "Adding traces:   0%|          | 0/24 [00:00<?, ?it/s]"
     ]
    },
    {
     "name": "stderr",
     "output_type": "stream",
     "text": [
      "\r",
      "Adding traces: 100%|██████████| 24/24 [00:00<00:00, 101577.49it/s]"
     ]
    },
    {
     "name": "stderr",
     "output_type": "stream",
     "text": [
      "\n",
      "\r",
      "Removing traces:   0%|          | 0/24 [00:00<?, ?it/s]"
     ]
    },
    {
     "name": "stderr",
     "output_type": "stream",
     "text": [
      "\r",
      "Removing traces: 100%|██████████| 24/24 [00:00<00:00, 101782.91it/s]"
     ]
    },
    {
     "name": "stderr",
     "output_type": "stream",
     "text": [
      "\n"
     ]
    }
   ],
   "source": [
    "import torch\n",
    "import torchvision\n",
    "import torchprof\n",
    "model = torchvision.models.alexnet(pretrained=False).cuda()\n",
    "x = torch.rand([1, 3, 224, 224]).cuda()\n",
    "with torchprof.profile(model, use_cuda=True) as prof:\n",
    "    _ = model(x)\n",
    "\n"
   ]
  },
  {
   "cell_type": "code",
   "execution_count": 3,
   "id": "electrical-sister",
   "metadata": {
    "collapsed": false
   },
   "outputs": [
    {
     "name": "stderr",
     "output_type": "stream",
     "text": [
      "\r",
      "Make Events:   0%|          | 0/351 [00:00<?, ?it/s]"
     ]
    },
    {
     "name": "stderr",
     "output_type": "stream",
     "text": [
      "\r",
      "Make Events: 100%|██████████| 351/351 [00:00<00:00, 62431.65it/s]"
     ]
    },
    {
     "name": "stderr",
     "output_type": "stream",
     "text": [
      "\n",
      "\r",
      "Populate ancestors:   0%|          | 0/351 [00:00<?, ?it/s]"
     ]
    },
    {
     "name": "stderr",
     "output_type": "stream",
     "text": [
      "\r",
      "Populate ancestors: 100%|██████████| 351/351 [00:00<00:00, 109449.16it/s]"
     ]
    },
    {
     "name": "stderr",
     "output_type": "stream",
     "text": [
      "\n",
      "\r",
      "Group:   0%|          | 0/351 [00:00<?, ?it/s]"
     ]
    },
    {
     "name": "stderr",
     "output_type": "stream",
     "text": [
      "\r",
      "Group: 100%|██████████| 351/351 [00:00<00:00, 69525.42it/s]"
     ]
    },
    {
     "name": "stderr",
     "output_type": "stream",
     "text": [
      "\n",
      "\r",
      "Aggregate:   0%|          | 0/204 [00:00<?, ?it/s]"
     ]
    },
    {
     "name": "stderr",
     "output_type": "stream",
     "text": [
      "\r",
      "Aggregate: 100%|██████████| 204/204 [00:00<00:00, 48406.77it/s]"
     ]
    },
    {
     "name": "stderr",
     "output_type": "stream",
     "text": [
      "\n",
      "\r",
      "Make rows: 0it [00:00, ?it/s]"
     ]
    },
    {
     "name": "stderr",
     "output_type": "stream",
     "text": [
      "\r",
      "Make rows: 2it [00:00, 2852.30it/s]"
     ]
    },
    {
     "name": "stdout",
     "output_type": "stream",
     "text": [
      "\n",
      "\n",
      "CPU=14.1ms, CUDA=24.9ms\n",
      "+-------------+--------------+--------------+-------------+--------------+---------+\n",
      "| Node        |     Self CPU |          CPU |   Self CUDA |         CUDA |   Count |\n",
      "|-------------+--------------+--------------+-------------+--------------+---------|\n",
      "| AlexNet     | 352.8us (3%) | 13.8ms (98%) | 62.5us (0%) | 24.6ms (99%) |       1 |\n",
      "| aten::zeros |  40.4us (0%) | 313.9us (2%) | 49.2us (0%) | 312.3us (1%) |       1 |\n",
      "+-------------+--------------+--------------+-------------+--------------+---------+\n"
     ]
    },
    {
     "name": "stderr",
     "output_type": "stream",
     "text": [
      "\n"
     ]
    }
   ],
   "source": [
    "prof.display(min_pct=0)"
   ]
  },
  {
   "cell_type": "code",
   "execution_count": 9,
   "id": "crude-impression",
   "metadata": {
    "collapsed": false
   },
   "outputs": [
    {
     "name": "stderr",
     "output_type": "stream",
     "text": [
      "\r",
      "Make rows: 0it [00:00, ?it/s]"
     ]
    },
    {
     "name": "stderr",
     "output_type": "stream",
     "text": [
      "\r",
      "Make rows: 2it [00:00, 5071.71it/s]"
     ]
    },
    {
     "name": "stdout",
     "output_type": "stream",
     "text": [
      "\n",
      "\n",
      "CPU=14.1ms, CUDA=24.9ms\n",
      "+-------------+--------------+--------------+-------------+--------------+---------+\n",
      "| Node        |     Self CPU |          CPU |   Self CUDA |         CUDA |   Count |\n",
      "|-------------+--------------+--------------+-------------+--------------+---------|\n",
      "| AlexNet     | 352.8us (3%) | 13.8ms (98%) |             | 24.6ms (99%) |       1 |\n",
      "| aten::zeros |              | 313.9us (2%) |             | 312.3us (1%) |       1 |\n",
      "+-------------+--------------+--------------+-------------+--------------+---------+\n"
     ]
    },
    {
     "name": "stderr",
     "output_type": "stream",
     "text": [
      "\n"
     ]
    }
   ],
   "source": [
    "prof.display(min_pct=1)"
   ]
  },
  {
   "cell_type": "code",
   "execution_count": 5,
   "id": "dress-evaluation",
   "metadata": {
    "collapsed": false
   },
   "outputs": [
    {
     "name": "stderr",
     "output_type": "stream",
     "text": [
      "\r",
      "Make rows: 0it [00:00, ?it/s]"
     ]
    },
    {
     "name": "stderr",
     "output_type": "stream",
     "text": [
      "\r",
      "Make rows: 204it [00:00, 61112.64it/s]"
     ]
    },
    {
     "name": "stdout",
     "output_type": "stream",
     "text": [
      "\n",
      "\n",
      "CPU=14.1ms, CUDA=24.9ms\n",
      "+----------------------------------------+--------------+--------------+--------------+--------------+---------+\n",
      "| Node                                   |     Self CPU |          CPU |    Self CUDA |         CUDA |   Count |\n",
      "|----------------------------------------+--------------+--------------+--------------+--------------+---------|\n",
      "| AlexNet                                | 352.8us (3%) | 13.8ms (98%) |              | 24.6ms (99%) |       1 |\n",
      "| ├──classifier                          | 215.2us (2%) |  4.3ms (30%) |              | 12.5ms (50%) |       1 |\n",
      "| │ ├──1                                 | 269.5us (2%) |  2.5ms (18%) |              |  8.8ms (35%) |       1 |\n",
      "| │ │ ├──aten::addmm                     |  2.2ms (16%) |  2.2ms (16%) |  8.8ms (35%) |  8.8ms (35%) |       1 |\n",
      "| │ ├──4                                 |              | 145.8us (1%) |              |   1.9ms (8%) |       1 |\n",
      "| │ │ ├──aten::addmm                     |              |              |   1.9ms (8%) |   1.9ms (8%) |       1 |\n",
      "| │ ├──aten::zeros                       |              |              |              |   1.2ms (5%) |       7 |\n",
      "| │ │ ├──aten::zero_                     |              |              |   1.2ms (5%) |   1.2ms (5%) |       7 |\n",
      "| │ ├──6                                 |              | 206.7us (1%) |              | 518.1us (2%) |       1 |\n",
      "| │ │ ├──aten::addmm                     |              |              | 514.0us (2%) | 514.0us (2%) |       1 |\n",
      "| │ ├──0                                 | 222.1us (2%) | 879.7us (6%) |              |              |       1 |\n",
      "| │ │ ├──aten::dropout                   |              | 656.7us (5%) |              |              |       1 |\n",
      "| │ │ │ └──aten::_fused_dropout          | 615.8us (4%) | 645.6us (5%) |              |              |       1 |\n",
      "| ├──features                            | 341.4us (2%) |  8.8ms (62%) |              | 11.9ms (48%) |       1 |\n",
      "| │ ├──0                                 | 319.3us (2%) |  4.4ms (31%) | 280.0us (1%) |  4.4ms (17%) |       1 |\n",
      "| │ │ ├──aten::conv2d                    | 211.2us (1%) |  4.0ms (29%) |              |  4.1ms (16%) |       1 |\n",
      "| │ │ │ └──aten::convolution             |              |  3.8ms (27%) |              |  3.9ms (16%) |       1 |\n",
      "| │ │ │   └──aten::_convolution          |              |  3.8ms (27%) |              |  3.9ms (15%) |       1 |\n",
      "| │ │ │     ├──aten::cudnn_convolution   |  2.8ms (20%) |  3.0ms (22%) |  3.1ms (12%) |  3.1ms (13%) |       1 |\n",
      "| │ │ │     │ ├──aten::resize_           | 256.3us (2%) | 256.3us (2%) |              |              |       2 |\n",
      "| │ │ │     ├──aten::add_                | 707.7us (5%) | 707.7us (5%) | 699.4us (3%) | 699.4us (3%) |       1 |\n",
      "| │ ├──8                                 |              | 178.8us (1%) |              |   2.0ms (8%) |       1 |\n",
      "| │ │ ├──aten::conv2d                    |              | 150.5us (1%) |              |   2.0ms (8%) |       1 |\n",
      "| │ │ │ └──aten::convolution             |              | 144.6us (1%) |              |   2.0ms (8%) |       1 |\n",
      "| │ │ │   └──aten::_convolution          |              |              |              |   2.0ms (8%) |       1 |\n",
      "| │ │ │     ├──aten::cudnn_convolution   |              |              |   2.0ms (8%) |   2.0ms (8%) |       1 |\n",
      "| │ ├──1                                 |              |  1.9ms (13%) |              |   1.9ms (8%) |       1 |\n",
      "| │ │ ├──aten::relu_                     |              |  1.8ms (13%) |              |   1.9ms (7%) |       1 |\n",
      "| │ │ │ └──aten::threshold_              |  1.8ms (13%) |  1.8ms (13%) |   1.8ms (7%) |   1.8ms (7%) |       1 |\n",
      "| │ ├──3                                 |              | 302.0us (2%) |              |   1.2ms (5%) |       1 |\n",
      "| │ │ ├──aten::conv2d                    |              | 269.2us (2%) |              |   1.2ms (5%) |       1 |\n",
      "| │ │ │ └──aten::convolution             |              | 262.9us (2%) |              |   1.2ms (5%) |       1 |\n",
      "| │ │ │   └──aten::_convolution          |              | 256.1us (2%) |              |   1.2ms (5%) |       1 |\n",
      "| │ │ │     ├──aten::cudnn_convolution   |              | 201.0us (1%) |   1.1ms (5%) |   1.1ms (5%) |       1 |\n",
      "| │ ├──2                                 | 258.9us (2%) | 787.4us (6%) |              | 812.0us (3%) |       1 |\n",
      "| │ │ ├──aten::max_pool2d                | 247.8us (2%) | 527.5us (4%) |              | 570.4us (2%) |       1 |\n",
      "| │ │ │ └──aten::max_pool2d_with_indices | 261.6us (2%) | 279.7us (2%) | 322.5us (1%) | 324.6us (1%) |       1 |\n",
      "| │ ├──6                                 |              | 190.3us (1%) |              | 611.3us (2%) |       1 |\n",
      "| │ │ ├──aten::conv2d                    |              | 164.3us (1%) |              | 607.2us (2%) |       1 |\n",
      "| │ │ │ └──aten::convolution             |              | 158.9us (1%) |              | 603.1us (2%) |       1 |\n",
      "| │ │ │   └──aten::_convolution          |              | 153.4us (1%) |              | 600.1us (2%) |       1 |\n",
      "| │ │ │     ├──aten::cudnn_convolution   |              |              | 555.0us (2%) | 559.1us (2%) |       1 |\n",
      "| │ ├──10                                |              | 170.2us (1%) |              | 556.0us (2%) |       1 |\n",
      "| │ │ ├──aten::conv2d                    |              | 142.1us (1%) |              | 551.9us (2%) |       1 |\n",
      "| │ │ │ └──aten::convolution             |              |              |              | 547.8us (2%) |       1 |\n",
      "| │ │ │   └──aten::_convolution          |              |              |              | 545.8us (2%) |       1 |\n",
      "| │ │ │     ├──aten::cudnn_convolution   |              |              | 506.9us (2%) | 511.0us (2%) |       1 |\n",
      "| │ ├──aten::zeros                       |              | 218.0us (2%) |              |              |      13 |\n",
      "| ├──avgpool                             | 253.7us (2%) | 297.8us (2%) |              |              |       1 |\n",
      "| aten::zeros                            |              | 313.9us (2%) |              | 312.3us (1%) |       1 |\n",
      "| ├──aten::zero_                         | 246.8us (2%) | 263.5us (2%) | 251.5us (1%) | 263.1us (1%) |       1 |\n",
      "+----------------------------------------+--------------+--------------+--------------+--------------+---------+\n"
     ]
    },
    {
     "name": "stderr",
     "output_type": "stream",
     "text": [
      "\n"
     ]
    }
   ],
   "source": [
    "prof.display(min_pct=1, filter=[])"
   ]
  },
  {
   "cell_type": "code",
   "execution_count": 7,
   "id": "first-marking",
   "metadata": {
    "collapsed": false
   },
   "outputs": [
    {
     "name": "stderr",
     "output_type": "stream",
     "text": [
      "\r",
      "Make rows: 0it [00:00, ?it/s]"
     ]
    },
    {
     "name": "stderr",
     "output_type": "stream",
     "text": [
      "\r",
      "Make rows: 204it [00:00, 94181.40it/s]"
     ]
    },
    {
     "name": "stdout",
     "output_type": "stream",
     "text": [
      "\n",
      "\n",
      "CPU=14.1ms, CUDA=24.9ms\n",
      "+----------------------------------------+--------------+--------------+--------------+--------------+---------+\n",
      "| Node                                   |     Self CPU |          CPU |    Self CUDA |         CUDA |   Count |\n",
      "|----------------------------------------+--------------+--------------+--------------+--------------+---------|\n",
      "| AlexNet                                | 352.8us (3%) | 13.8ms (98%) |  62.5us (0%) | 24.6ms (99%) |       1 |\n",
      "| ├──features                            | 341.4us (2%) |  8.8ms (62%) | 124.5us (0%) | 11.9ms (48%) |       1 |\n",
      "| │ ├──0                                 | 319.3us (2%) |  4.4ms (31%) | 280.0us (1%) |  4.4ms (17%) |       1 |\n",
      "| │ │ ├──aten::conv2d                    | 211.2us (1%) |  4.0ms (29%) | 209.7us (1%) |  4.1ms (16%) |       1 |\n",
      "| │ │ │ └──aten::convolution             |   9.3us (0%) |  3.8ms (27%) |   4.3us (0%) |  3.9ms (16%) |       1 |\n",
      "| │ │ │   └──aten::_convolution          |  45.7us (0%) |  3.8ms (27%) |  36.8us (0%) |  3.9ms (15%) |       1 |\n",
      "| │ │ │     ├──aten::cudnn_convolution   |  2.8ms (20%) |  3.0ms (22%) |  3.1ms (12%) |  3.1ms (13%) |       1 |\n",
      "| │ │ │     │ ├──aten::contiguous        |   5.6us (0%) |   5.6us (0%) |   3.6us (0%) |   3.6us (0%) |       2 |\n",
      "| │ │ │     │ ├──aten::resize_           | 256.3us (2%) | 256.3us (2%) |   0.0us (0%) |   0.0us (0%) |       2 |\n",
      "| │ │ │     │ ├──aten::stride            |   1.8us (0%) |   1.8us (0%) |   0.0us (0%) |   0.0us (0%) |       4 |\n",
      "| │ │ │     │ └──aten::empty             |  16.0us (0%) |  16.0us (0%) |   0.0us (0%) |   0.0us (0%) |       2 |\n",
      "| │ │ │     ├──aten::add_                | 707.7us (5%) | 707.7us (5%) | 699.4us (3%) | 699.4us (3%) |       1 |\n",
      "| │ │ │     ├──aten::contiguous          |   4.5us (0%) |   4.5us (0%) |   4.2us (0%) |   4.2us (0%) |       1 |\n",
      "| │ │ │     └──aten::reshape             |   5.5us (0%) |  17.8us (0%) |   2.0us (0%) |   2.0us (0%) |       1 |\n",
      "| │ │ │       └──aten::view              |  12.3us (0%) |  12.3us (0%) |   0.0us (0%) |   0.0us (0%) |       1 |\n",
      "| │ │ └──aten::empty                     |   1.1us (0%) |   1.1us (0%) |   0.0us (0%) |   0.0us (0%) |       1 |\n",
      "| │ ├──2                                 | 258.9us (2%) | 787.4us (6%) | 241.7us (1%) | 812.0us (3%) |       1 |\n",
      "| │ │ ├──aten::max_pool2d                | 247.8us (2%) | 527.5us (4%) | 245.8us (1%) | 570.4us (2%) |       1 |\n",
      "| │ │ │ └──aten::max_pool2d_with_indices | 261.6us (2%) | 279.7us (2%) | 322.5us (1%) | 324.6us (1%) |       1 |\n",
      "| │ │ │   ├──aten::contiguous            |   4.2us (0%) |   4.2us (0%) |   2.0us (0%) |   2.0us (0%) |       1 |\n",
      "| │ │ │   ├──aten::empty                 |   5.0us (0%) |   5.0us (0%) |   0.0us (0%) |   0.0us (0%) |       2 |\n",
      "| │ │ │   ├──aten::stride                |   1.5us (0%) |   1.5us (0%) |   0.0us (0%) |   0.0us (0%) |       4 |\n",
      "| │ │ │   └──aten::resize_               |   7.4us (0%) |   7.4us (0%) |   0.0us (0%) |   0.0us (0%) |       2 |\n",
      "| │ │ └──aten::empty                     |   1.0us (0%) |   1.0us (0%) |   0.0us (0%) |   0.0us (0%) |       1 |\n",
      "| │ ├──aten::zeros                       |  88.4us (1%) | 218.0us (2%) |  63.7us (0%) | 145.2us (1%) |      13 |\n",
      "| │ │ ├──aten::zero_                     |  62.0us (0%) | 103.6us (1%) |  53.7us (0%) |  81.5us (0%) |      13 |\n",
      "| │ │ │ └──aten::fill_                   |  41.6us (0%) |  41.6us (0%) |  27.7us (0%) |  27.7us (0%) |      13 |\n",
      "| │ │ └──aten::empty                     |  26.0us (0%) |  26.0us (0%) |   0.0us (0%) |   0.0us (0%) |      13 |\n",
      "| │ ├──1                                 |  38.9us (0%) |  1.9ms (13%) |  32.8us (0%) |   1.9ms (8%) |       1 |\n",
      "| │ │ ├──aten::relu_                     |  39.2us (0%) |  1.8ms (13%) |  19.5us (0%) |   1.9ms (7%) |       1 |\n",
      "| │ │ │ └──aten::threshold_              |  1.8ms (13%) |  1.8ms (13%) |   1.8ms (7%) |   1.8ms (7%) |       1 |\n",
      "| │ │ └──aten::empty                     |   1.2us (0%) |   1.2us (0%) |   0.0us (0%) |   0.0us (0%) |       1 |\n",
      "| │ ├──3                                 |  31.8us (0%) | 302.0us (2%) |  24.6us (0%) |   1.2ms (5%) |       1 |\n",
      "| │ │ ├──aten::conv2d                    |   6.3us (0%) | 269.2us (2%) |   4.1us (0%) |   1.2ms (5%) |       1 |\n",
      "| │ │ │ └──aten::convolution             |   6.9us (0%) | 262.9us (2%) |   7.2us (0%) |   1.2ms (5%) |       1 |\n",
      "| │ │ │   └──aten::_convolution          |  19.8us (0%) | 256.1us (2%) |  17.4us (0%) |   1.2ms (5%) |       1 |\n",
      "| │ │ │     ├──aten::cudnn_convolution   |  67.3us (0%) | 201.0us (1%) |   1.1ms (5%) |   1.1ms (5%) |       1 |\n",
      "| │ │ │     │ ├──aten::contiguous        |   6.1us (0%) |   6.1us (0%) |   4.1us (0%) |   4.1us (0%) |       2 |\n",
      "| │ │ │     │ ├──aten::stride            |   1.2us (0%) |   1.2us (0%) |   0.0us (0%) |   0.0us (0%) |       4 |\n",
      "| │ │ │     │ ├──aten::resize_           |   1.6us (0%) |   1.6us (0%) |   0.0us (0%) |   0.0us (0%) |       2 |\n",
      "| │ │ │     │ └──aten::empty             | 124.7us (1%) | 124.7us (1%) |   0.0us (0%) |   0.0us (0%) |       2 |\n",
      "| │ │ │     ├──aten::add_                |  22.0us (0%) |  22.0us (0%) |  45.1us (0%) |  45.1us (0%) |       1 |\n",
      "| │ │ │     ├──aten::reshape             |   3.6us (0%) |  11.0us (0%) |   2.0us (0%) |   2.0us (0%) |       1 |\n",
      "| │ │ │     │ └──aten::view              |   7.5us (0%) |   7.5us (0%) |   0.0us (0%) |   0.0us (0%) |       1 |\n",
      "| │ │ │     └──aten::contiguous          |   2.2us (0%) |   2.2us (0%) |   1.0us (0%) |   1.0us (0%) |       1 |\n",
      "| │ │ └──aten::empty                     |   1.0us (0%) |   1.0us (0%) |   0.0us (0%) |   0.0us (0%) |       1 |\n",
      "| │ ├──5                                 |  19.0us (0%) |  66.8us (0%) |   4.1us (0%) |  60.4us (0%) |       1 |\n",
      "| │ │ ├──aten::max_pool2d                |   5.4us (0%) |  46.8us (0%) |   4.1us (0%) |  56.3us (0%) |       1 |\n",
      "| │ │ │ └──aten::max_pool2d_with_indices |  30.5us (0%) |  41.4us (0%) |  50.2us (0%) |  52.2us (0%) |       1 |\n",
      "| │ │ │   ├──aten::contiguous            |   2.2us (0%) |   2.2us (0%) |   2.0us (0%) |   2.0us (0%) |       1 |\n",
      "| │ │ │   ├──aten::resize_               |   4.8us (0%) |   4.8us (0%) |   0.0us (0%) |   0.0us (0%) |       2 |\n",
      "| │ │ │   ├──aten::empty                 |   2.5us (0%) |   2.5us (0%) |   0.0us (0%) |   0.0us (0%) |       2 |\n",
      "| │ │ │   └──aten::stride                |   1.4us (0%) |   1.4us (0%) |   0.0us (0%) |   0.0us (0%) |       4 |\n",
      "| │ │ └──aten::empty                     |   1.0us (0%) |   1.0us (0%) |   0.0us (0%) |   0.0us (0%) |       1 |\n",
      "| │ ├──7                                 |  36.5us (0%) |  64.7us (0%) |   4.1us (0%) |  19.5us (0%) |       1 |\n",
      "| │ │ ├──aten::relu_                     |  15.8us (0%) |  27.3us (0%) |   8.2us (0%) |  15.4us (0%) |       1 |\n",
      "| │ │ │ └──aten::threshold_              |  11.5us (0%) |  11.5us (0%) |   7.2us (0%) |   7.2us (0%) |       1 |\n",
      "| │ │ └──aten::empty                     |   1.0us (0%) |   1.0us (0%) |   0.0us (0%) |   0.0us (0%) |       1 |\n",
      "| │ ├──6                                 |  24.9us (0%) | 190.3us (1%) |   4.1us (0%) | 611.3us (2%) |       1 |\n",
      "| │ │ ├──aten::conv2d                    |   5.4us (0%) | 164.3us (1%) |   4.1us (0%) | 607.2us (2%) |       1 |\n",
      "| │ │ │ └──aten::convolution             |   5.4us (0%) | 158.9us (1%) |   3.1us (0%) | 603.1us (2%) |       1 |\n",
      "| │ │ │   └──aten::_convolution          |  17.0us (0%) | 153.4us (1%) |  10.2us (0%) | 600.1us (2%) |       1 |\n",
      "| │ │ │     ├──aten::cudnn_convolution   |  94.9us (1%) | 106.6us (1%) | 555.0us (2%) | 559.1us (2%) |       1 |\n",
      "| │ │ │     │ ├──aten::contiguous        |   3.8us (0%) |   3.8us (0%) |   4.1us (0%) |   4.1us (0%) |       2 |\n",
      "| │ │ │     │ ├──aten::resize_           |   1.1us (0%) |   1.1us (0%) |   0.0us (0%) |   0.0us (0%) |       2 |\n",
      "| │ │ │     │ ├──aten::stride            |   1.1us (0%) |   1.1us (0%) |   0.0us (0%) |   0.0us (0%) |       4 |\n",
      "| │ │ │     │ └──aten::empty             |   5.6us (0%) |   5.6us (0%) |   0.0us (0%) |   0.0us (0%) |       2 |\n",
      "| │ │ │     ├──aten::add_                |  18.2us (0%) |  18.2us (0%) |  26.6us (0%) |  26.6us (0%) |       1 |\n",
      "| │ │ │     ├──aten::reshape             |   3.3us (0%) |   9.5us (0%) |   2.0us (0%) |   2.0us (0%) |       1 |\n",
      "| │ │ │     │ └──aten::view              |   6.2us (0%) |   6.2us (0%) |   0.0us (0%) |   0.0us (0%) |       1 |\n",
      "| │ │ │     └──aten::contiguous          |   2.1us (0%) |   2.1us (0%) |   2.0us (0%) |   2.0us (0%) |       1 |\n",
      "| │ │ └──aten::empty                     |   1.1us (0%) |   1.1us (0%) |   0.0us (0%) |   0.0us (0%) |       1 |\n",
      "| │ ├──11                                |  18.4us (0%) |  46.2us (0%) |   4.1us (0%) |  17.4us (0%) |       1 |\n",
      "| │ │ ├──aten::relu_                     |  15.6us (0%) |  26.7us (0%) |   7.2us (0%) |  13.3us (0%) |       1 |\n",
      "| │ │ │ └──aten::threshold_              |  11.1us (0%) |  11.1us (0%) |   6.1us (0%) |   6.1us (0%) |       1 |\n",
      "| │ │ └──aten::empty                     |   1.1us (0%) |   1.1us (0%) |   0.0us (0%) |   0.0us (0%) |       1 |\n",
      "| │ ├──10                                |  27.0us (0%) | 170.2us (1%) |   4.1us (0%) | 556.0us (2%) |       1 |\n",
      "| │ │ ├──aten::conv2d                    |   6.1us (0%) | 142.1us (1%) |   4.1us (0%) | 551.9us (2%) |       1 |\n",
      "| │ │ │ └──aten::convolution             |   5.9us (0%) | 136.0us (1%) |   2.0us (0%) | 547.8us (2%) |       1 |\n",
      "| │ │ │   └──aten::_convolution          |  19.2us (0%) | 130.1us (1%) |   9.2us (0%) | 545.8us (2%) |       1 |\n",
      "| │ │ │     ├──aten::cudnn_convolution   |  64.4us (0%) |  77.1us (1%) | 506.9us (2%) | 511.0us (2%) |       1 |\n",
      "| │ │ │     │ ├──aten::contiguous        |   4.5us (0%) |   4.5us (0%) |   4.1us (0%) |   4.1us (0%) |       2 |\n",
      "| │ │ │     │ ├──aten::stride            |   1.3us (0%) |   1.3us (0%) |   0.0us (0%) |   0.0us (0%) |       4 |\n",
      "| │ │ │     │ ├──aten::empty             |   5.8us (0%) |   5.8us (0%) |   0.0us (0%) |   0.0us (0%) |       2 |\n",
      "| │ │ │     │ └──aten::resize_           |   1.2us (0%) |   1.2us (0%) |   0.0us (0%) |   0.0us (0%) |       2 |\n",
      "| │ │ │     ├──aten::add_                |  20.9us (0%) |  20.9us (0%) |  21.5us (0%) |  21.5us (0%) |       1 |\n",
      "| │ │ │     ├──aten::reshape             |   3.9us (0%) |  10.5us (0%) |   2.0us (0%) |   2.0us (0%) |       1 |\n",
      "| │ │ │     │ └──aten::view              |   6.6us (0%) |   6.6us (0%) |   0.0us (0%) |   0.0us (0%) |       1 |\n",
      "| │ │ │     └──aten::contiguous          |   2.4us (0%) |   2.4us (0%) |   2.0us (0%) |   2.0us (0%) |       1 |\n",
      "| │ │ └──aten::empty                     |   1.1us (0%) |   1.1us (0%) |   0.0us (0%) |   0.0us (0%) |       1 |\n",
      "| │ ├──9                                 |  18.4us (0%) |  45.8us (0%) |   4.1us (0%) |  17.4us (0%) |       1 |\n",
      "| │ │ ├──aten::relu_                     |  15.3us (0%) |  26.4us (0%) |   6.1us (0%) |  13.3us (0%) |       1 |\n",
      "| │ │ │ └──aten::threshold_              |  11.1us (0%) |  11.1us (0%) |   7.2us (0%) |   7.2us (0%) |       1 |\n",
      "| │ │ └──aten::empty                     |   1.1us (0%) |   1.1us (0%) |   0.0us (0%) |   0.0us (0%) |       1 |\n",
      "| │ ├──8                                 |  27.2us (0%) | 178.8us (1%) |   3.1us (0%) |   2.0ms (8%) |       1 |\n",
      "| │ │ ├──aten::conv2d                    |   5.9us (0%) | 150.5us (1%) |   4.1us (0%) |   2.0ms (8%) |       1 |\n",
      "| │ │ │ └──aten::convolution             |   5.8us (0%) | 144.6us (1%) |   4.1us (0%) |   2.0ms (8%) |       1 |\n",
      "| │ │ │   └──aten::_convolution          |  19.2us (0%) | 138.9us (1%) |   9.2us (0%) |   2.0ms (8%) |       1 |\n",
      "| │ │ │     ├──aten::cudnn_convolution   |  72.3us (1%) |  86.2us (1%) |   2.0ms (8%) |   2.0ms (8%) |       1 |\n",
      "| │ │ │     │ ├──aten::contiguous        |   4.7us (0%) |   4.7us (0%) |   3.1us (0%) |   3.1us (0%) |       2 |\n",
      "| │ │ │     │ ├──aten::empty             |   6.5us (0%) |   6.5us (0%) |   0.0us (0%) |   0.0us (0%) |       2 |\n",
      "| │ │ │     │ ├──aten::stride            |   1.5us (0%) |   1.5us (0%) |   0.0us (0%) |   0.0us (0%) |       4 |\n",
      "| │ │ │     │ └──aten::resize_           |   1.2us (0%) |   1.2us (0%) |   0.0us (0%) |   0.0us (0%) |       2 |\n",
      "| │ │ │     ├──aten::add_                |  20.5us (0%) |  20.5us (0%) |  22.5us (0%) |  22.5us (0%) |       1 |\n",
      "| │ │ │     ├──aten::reshape             |   3.8us (0%) |  10.5us (0%) |   2.0us (0%) |   2.0us (0%) |       1 |\n",
      "| │ │ │     │ └──aten::view              |   6.7us (0%) |   6.7us (0%) |   0.0us (0%) |   0.0us (0%) |       1 |\n",
      "| │ │ │     └──aten::contiguous          |   2.5us (0%) |   2.5us (0%) |   1.0us (0%) |   1.0us (0%) |       1 |\n",
      "| │ │ └──aten::empty                     |   1.0us (0%) |   1.0us (0%) |   0.0us (0%) |   0.0us (0%) |       1 |\n",
      "| │ ├──12                                |  22.3us (0%) |  74.4us (1%) |   3.1us (0%) |  28.7us (0%) |       1 |\n",
      "| │ │ ├──aten::max_pool2d                |   6.3us (0%) |  51.0us (0%) |   4.1us (0%) |  25.6us (0%) |       1 |\n",
      "| │ │ │ └──aten::max_pool2d_with_indices |  33.1us (0%) |  44.7us (0%) |  19.5us (0%) |  21.5us (0%) |       1 |\n",
      "| │ │ │   ├──aten::contiguous            |   2.6us (0%) |   2.6us (0%) |   2.0us (0%) |   2.0us (0%) |       1 |\n",
      "| │ │ │   ├──aten::stride                |   1.4us (0%) |   1.4us (0%) |   0.0us (0%) |   0.0us (0%) |       4 |\n",
      "| │ │ │   ├──aten::empty                 |   2.8us (0%) |   2.8us (0%) |   0.0us (0%) |   0.0us (0%) |       2 |\n",
      "| │ │ │   └──aten::resize_               |   4.8us (0%) |   4.8us (0%) |   0.0us (0%) |   0.0us (0%) |       2 |\n",
      "| │ │ └──aten::empty                     |   1.1us (0%) |   1.1us (0%) |   0.0us (0%) |   0.0us (0%) |       1 |\n",
      "| │ ├──4                                 |  17.7us (0%) |  44.1us (0%) |   3.1us (0%) |  45.1us (0%) |       1 |\n",
      "| │ │ ├──aten::relu_                     |  14.4us (0%) |  25.5us (0%) |   8.2us (0%) |  42.0us (0%) |       1 |\n",
      "| │ │ │ └──aten::threshold_              |  11.0us (0%) |  11.0us (0%) |  33.8us (0%) |  33.8us (0%) |       1 |\n",
      "| │ │ └──aten::empty                     |   1.0us (0%) |   1.0us (0%) |   0.0us (0%) |   0.0us (0%) |       1 |\n",
      "| │ └──aten::empty                       |   1.4us (0%) |   1.4us (0%) |   0.0us (0%) |   0.0us (0%) |       1 |\n",
      "| ├──classifier                          | 215.2us (2%) |  4.3ms (30%) |  28.7us (0%) | 12.5ms (50%) |       1 |\n",
      "| │ ├──aten::zeros                       |  59.5us (0%) | 126.4us (1%) |  32.8us (0%) |   1.2ms (5%) |       7 |\n",
      "| │ │ ├──aten::zero_                     |  32.1us (0%) |  53.7us (0%) |   1.2ms (5%) |   1.2ms (5%) |       7 |\n",
      "| │ │ │ └──aten::fill_                   |  21.5us (0%) |  21.5us (0%) |  10.2us (0%) |  10.2us (0%) |       7 |\n",
      "| │ │ └──aten::empty                     |  13.2us (0%) |  13.2us (0%) |   0.0us (0%) |   0.0us (0%) |       7 |\n",
      "| │ ├──2                                 |  16.3us (0%) |  42.1us (0%) |   4.1us (0%) |  15.4us (0%) |       1 |\n",
      "| │ │ ├──aten::relu_                     |  13.9us (0%) |  24.7us (0%) |   6.1us (0%) |  11.3us (0%) |       1 |\n",
      "| │ │ │ └──aten::threshold_              |  10.8us (0%) |  10.8us (0%) |   5.1us (0%) |   5.1us (0%) |       1 |\n",
      "| │ │ └──aten::empty                     |   1.1us (0%) |   1.1us (0%) |   0.0us (0%) |   0.0us (0%) |       1 |\n",
      "| │ ├──5                                 |  35.2us (0%) |  63.5us (0%) |   4.1us (0%) |  16.4us (0%) |       1 |\n",
      "| │ │ ├──aten::relu_                     |  16.4us (0%) |  27.4us (0%) |   7.2us (0%) |  12.3us (0%) |       1 |\n",
      "| │ │ │ └──aten::threshold_              |  10.9us (0%) |  10.9us (0%) |   5.1us (0%) |   5.1us (0%) |       1 |\n",
      "| │ │ └──aten::empty                     |   0.9us (0%) |   0.9us (0%) |   0.0us (0%) |   0.0us (0%) |       1 |\n",
      "| │ ├──0                                 | 222.1us (2%) | 879.7us (6%) |   4.1us (0%) |  31.7us (0%) |       1 |\n",
      "| │ │ ├──aten::dropout                   |  11.1us (0%) | 656.7us (5%) |   4.1us (0%) |  27.6us (0%) |       1 |\n",
      "| │ │ │ └──aten::_fused_dropout          | 615.8us (4%) | 645.6us (5%) |  23.6us (0%) |  23.6us (0%) |       1 |\n",
      "| │ │ │   ├──aten::stride                |   2.2us (0%) |   2.2us (0%) |   0.0us (0%) |   0.0us (0%) |       8 |\n",
      "| │ │ │   ├──aten::empty_like            |   4.8us (0%) |  25.6us (0%) |   0.0us (0%) |   0.0us (0%) |       1 |\n",
      "| │ │ │   │ └──aten::empty               |  20.8us (0%) |  20.8us (0%) |   0.0us (0%) |   0.0us (0%) |       1 |\n",
      "| │ │ │   └──aten::empty                 |   1.9us (0%) |   1.9us (0%) |   0.0us (0%) |   0.0us (0%) |       1 |\n",
      "| │ │ └──aten::empty                     |   0.9us (0%) |   0.9us (0%) |   0.0us (0%) |   0.0us (0%) |       1 |\n",
      "| │ ├──6                                 |  72.2us (1%) | 206.7us (1%) |   4.1us (0%) | 518.1us (2%) |       1 |\n",
      "| │ │ ├──aten::addmm                     |  69.7us (0%) |  98.8us (1%) | 514.0us (2%) | 514.0us (2%) |       1 |\n",
      "| │ │ │ ├──aten::expand                  |   2.2us (0%) |   3.3us (0%) |   0.0us (0%) |   0.0us (0%) |       1 |\n",
      "| │ │ │ │ └──aten::as_strided            |   1.1us (0%) |   1.1us (0%) |   0.0us (0%) |   0.0us (0%) |       1 |\n",
      "| │ │ │ ├──aten::resize_                 |   4.1us (0%) |   4.1us (0%) |   0.0us (0%) |   0.0us (0%) |       1 |\n",
      "| │ │ │ ├──aten::stride                  |   1.4us (0%) |   1.4us (0%) |   0.0us (0%) |   0.0us (0%) |       3 |\n",
      "| │ │ │ └──aten::empty                   |  20.3us (0%) |  20.3us (0%) |   0.0us (0%) |   0.0us (0%) |       1 |\n",
      "| │ │ ├──aten::empty                     |   1.7us (0%) |   1.7us (0%) |   0.0us (0%) |   0.0us (0%) |       1 |\n",
      "| │ │ └──aten::t                         |  11.9us (0%) |  34.0us (0%) |   0.0us (0%) |   0.0us (0%) |       1 |\n",
      "| │ │   └──aten::transpose               |   2.3us (0%) |  22.2us (0%) |   0.0us (0%) |   0.0us (0%) |       1 |\n",
      "| │ │     └──aten::as_strided            |  19.9us (0%) |  19.9us (0%) |   0.0us (0%) |   0.0us (0%) |       1 |\n",
      "| │ ├──1                                 | 269.5us (2%) |  2.5ms (18%) |   4.1us (0%) |  8.8ms (35%) |       1 |\n",
      "| │ │ ├──aten::addmm                     |  2.2ms (16%) |  2.2ms (16%) |  8.8ms (35%) |  8.8ms (35%) |       1 |\n",
      "| │ │ │ ├──aten::resize_                 |   5.1us (0%) |   5.1us (0%) |   0.0us (0%) |   0.0us (0%) |       1 |\n",
      "| │ │ │ ├──aten::stride                  |   1.1us (0%) |   1.1us (0%) |   0.0us (0%) |   0.0us (0%) |       3 |\n",
      "| │ │ │ ├──aten::expand                  |   2.3us (0%) |   3.2us (0%) |   0.0us (0%) |   0.0us (0%) |       1 |\n",
      "| │ │ │ │ └──aten::as_strided            |   0.9us (0%) |   0.9us (0%) |   0.0us (0%) |   0.0us (0%) |       1 |\n",
      "| │ │ │ └──aten::empty                   |   2.3us (0%) |   2.3us (0%) |   0.0us (0%) |   0.0us (0%) |       1 |\n",
      "| │ │ ├──aten::t                         |  11.3us (0%) |  16.0us (0%) |   0.0us (0%) |   0.0us (0%) |       1 |\n",
      "| │ │ │ └──aten::transpose               |   2.3us (0%) |   4.7us (0%) |   0.0us (0%) |   0.0us (0%) |       1 |\n",
      "| │ │ │   └──aten::as_strided            |   2.4us (0%) |   2.4us (0%) |   0.0us (0%) |   0.0us (0%) |       1 |\n",
      "| │ │ └──aten::empty                     |   1.0us (0%) |   1.0us (0%) |   0.0us (0%) |   0.0us (0%) |       1 |\n",
      "| │ ├──3                                 |  47.6us (0%) | 113.7us (1%) |   4.1us (0%) |  21.5us (0%) |       1 |\n",
      "| │ │ ├──aten::dropout                   |   8.5us (0%) |  64.5us (0%) |   3.1us (0%) |  17.4us (0%) |       1 |\n",
      "| │ │ │ └──aten::_fused_dropout          |  44.9us (0%) |  56.0us (0%) |  14.3us (0%) |  14.3us (0%) |       1 |\n",
      "| │ │ │   ├──aten::empty                 |   1.7us (0%) |   1.7us (0%) |   0.0us (0%) |   0.0us (0%) |       1 |\n",
      "| │ │ │   ├──aten::stride                |   2.3us (0%) |   2.3us (0%) |   0.0us (0%) |   0.0us (0%) |       8 |\n",
      "| │ │ │   └──aten::empty_like            |   3.0us (0%) |   7.1us (0%) |   0.0us (0%) |   0.0us (0%) |       1 |\n",
      "| │ │ │     └──aten::empty               |   4.1us (0%) |   4.1us (0%) |   0.0us (0%) |   0.0us (0%) |       1 |\n",
      "| │ │ └──aten::empty                     |   1.6us (0%) |   1.6us (0%) |   0.0us (0%) |   0.0us (0%) |       1 |\n",
      "| │ ├──4                                 |  41.3us (0%) | 145.8us (1%) |   3.1us (0%) |   1.9ms (8%) |       1 |\n",
      "| │ │ ├──aten::addmm                     |  65.2us (0%) |  91.1us (1%) |   1.9ms (8%) |   1.9ms (8%) |       1 |\n",
      "| │ │ │ ├──aten::stride                  |   1.6us (0%) |   1.6us (0%) |   0.0us (0%) |   0.0us (0%) |       3 |\n",
      "| │ │ │ ├──aten::expand                  |   1.6us (0%) |   2.3us (0%) |   0.0us (0%) |   0.0us (0%) |       1 |\n",
      "| │ │ │ │ └──aten::as_strided            |   0.8us (0%) |   0.8us (0%) |   0.0us (0%) |   0.0us (0%) |       1 |\n",
      "| │ │ │ ├──aten::empty                   |  19.0us (0%) |  19.0us (0%) |   0.0us (0%) |   0.0us (0%) |       1 |\n",
      "| │ │ │ └──aten::resize_                 |   2.9us (0%) |   2.9us (0%) |   0.0us (0%) |   0.0us (0%) |       1 |\n",
      "| │ │ ├──aten::t                         |   8.2us (0%) |  11.6us (0%) |   0.0us (0%) |   0.0us (0%) |       1 |\n",
      "| │ │ │ └──aten::transpose               |   1.6us (0%) |   3.5us (0%) |   0.0us (0%) |   0.0us (0%) |       1 |\n",
      "| │ │ │   └──aten::as_strided            |   1.8us (0%) |   1.8us (0%) |   0.0us (0%) |   0.0us (0%) |       1 |\n",
      "| │ │ └──aten::empty                     |   1.9us (0%) |   1.9us (0%) |   0.0us (0%) |   0.0us (0%) |       1 |\n",
      "| │ └──aten::empty                       |   0.9us (0%) |   0.9us (0%) |   0.0us (0%) |   0.0us (0%) |       1 |\n",
      "| ├──aten::zeros                         |  20.7us (0%) |  50.1us (0%) |  17.3us (0%) |  37.2us (0%) |       3 |\n",
      "| │ ├──aten::zero_                       |  14.1us (0%) |  24.4us (0%) |  12.7us (0%) |  19.8us (0%) |       3 |\n",
      "| │ │ └──aten::fill_                     |  10.3us (0%) |  10.3us (0%) |   7.2us (0%) |   7.2us (0%) |       3 |\n",
      "| │ └──aten::empty                       |   5.0us (0%) |   5.0us (0%) |   0.0us (0%) |   0.0us (0%) |       3 |\n",
      "| ├──avgpool                             | 253.7us (2%) | 297.8us (2%) |   4.1us (0%) |  67.6us (0%) |       1 |\n",
      "| │ ├──aten::adaptive_avg_pool2d         |   7.3us (0%) |  43.1us (0%) |   4.1us (0%) |  63.5us (0%) |       1 |\n",
      "| │ │ └──aten::_adaptive_avg_pool2d      |  28.4us (0%) |  35.8us (0%) |  57.3us (0%) |  59.4us (0%) |       1 |\n",
      "| │ │   ├──aten::contiguous              |   2.1us (0%) |   2.1us (0%) |   2.0us (0%) |   2.0us (0%) |       1 |\n",
      "| │ │   ├──aten::stride                  |   0.8us (0%) |   0.8us (0%) |   0.0us (0%) |   0.0us (0%) |       3 |\n",
      "| │ │   ├──aten::empty                   |   1.9us (0%) |   1.9us (0%) |   0.0us (0%) |   0.0us (0%) |       1 |\n",
      "| │ │   └──aten::resize_                 |   2.6us (0%) |   2.6us (0%) |   0.0us (0%) |   0.0us (0%) |       1 |\n",
      "| │ └──aten::empty                       |   1.1us (0%) |   1.1us (0%) |   0.0us (0%) |   0.0us (0%) |       1 |\n",
      "| ├──aten::flatten                       |   6.6us (0%) |  16.3us (0%) |   3.1us (0%) |   5.1us (0%) |       1 |\n",
      "| │ └──aten::reshape                     |   3.2us (0%) |   9.8us (0%) |   2.0us (0%) |   2.0us (0%) |       1 |\n",
      "| │   └──aten::view                      |   6.5us (0%) |   6.5us (0%) |   0.0us (0%) |   0.0us (0%) |       1 |\n",
      "| └──aten::empty                         |   3.2us (0%) |   3.2us (0%) |   0.0us (0%) |   0.0us (0%) |       1 |\n",
      "| aten::zeros                            |  40.4us (0%) | 313.9us (2%) |  49.2us (0%) | 312.3us (1%) |       1 |\n",
      "| ├──aten::zero_                         | 246.8us (2%) | 263.5us (2%) | 251.5us (1%) | 263.1us (1%) |       1 |\n",
      "| │ └──aten::fill_                       |  16.7us (0%) |  16.7us (0%) |  11.6us (0%) |  11.6us (0%) |       1 |\n",
      "| └──aten::empty                         |  10.0us (0%) |  10.0us (0%) |   0.0us (0%) |   0.0us (0%) |       1 |\n",
      "+----------------------------------------+--------------+--------------+--------------+--------------+---------+\n"
     ]
    },
    {
     "name": "stderr",
     "output_type": "stream",
     "text": [
      "\n"
     ]
    }
   ],
   "source": [
    "prof.display(sort_by=[\"self_cuda_time\"], min_pct=0, filter=[])"
   ]
  }
 ],
 "metadata": {
  "kernelspec": {
   "argv": [
    "python",
    "-m",
    "ipykernel_launcher",
    "-f",
    "{connection_file}"
   ],
   "display_name": "Python 3",
   "env": null,
   "interrupt_mode": "signal",
   "language": "python",
   "metadata": null,
   "name": "python3"
  },
  "language_info": {
   "codemirror_mode": {
    "name": "ipython",
    "version": 3
   },
   "file_extension": ".py",
   "mimetype": "text/x-python",
   "name": "python",
   "nbconvert_exporter": "python",
   "pygments_lexer": "ipython3",
   "version": "3.8.1"
  },
  "name": "demo.ipynb"
 },
 "nbformat": 4,
 "nbformat_minor": 5
}

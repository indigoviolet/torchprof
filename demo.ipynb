{
 "cells": [
  {
   "cell_type": "code",
   "execution_count": 3,
   "id": "collective-departure",
   "metadata": {
    "collapsed": false
   },
   "outputs": [],
   "source": [
    "%reload_ext autoreload\n",
    "%autoreload 2\n",
    "\n",
    "from IPython.core.interactiveshell import InteractiveShell\n",
    "InteractiveShell.ast_node_interactivity = \"all\""
   ]
  },
  {
   "cell_type": "code",
   "execution_count": 4,
   "id": "numerical-sodium",
   "metadata": {
    "collapsed": false
   },
   "outputs": [],
   "source": [
    "import torch\n",
    "import torchvision\n",
    "import torchprof\n",
    "model = torchvision.models.alexnet(pretrained=False).cuda()\n",
    "x = torch.rand([1, 3, 224, 224]).cuda()\n",
    "with torchprof.profile(model, use_cuda=True) as prof:\n",
    "    _ = model(x)\n",
    "\n"
   ]
  },
  {
   "cell_type": "code",
   "execution_count": 5,
   "id": "backed-companion",
   "metadata": {
    "collapsed": false
   },
   "outputs": [
    {
     "name": "stderr",
     "output_type": "stream",
     "text": [
      "\r",
      "Make Events:   0%|          | 0/351 [00:00<?, ?it/s]"
     ]
    },
    {
     "name": "stderr",
     "output_type": "stream",
     "text": [
      "\r",
      "Make Events: 100%|██████████| 351/351 [00:00<00:00, 85617.95it/s]"
     ]
    },
    {
     "name": "stderr",
     "output_type": "stream",
     "text": [
      "\n",
      "\r",
      "Populate ancestors:   0%|          | 0/351 [00:00<?, ?it/s]"
     ]
    },
    {
     "name": "stderr",
     "output_type": "stream",
     "text": [
      "\r",
      "Populate ancestors: 100%|██████████| 351/351 [00:00<00:00, 107154.87it/s]"
     ]
    },
    {
     "name": "stderr",
     "output_type": "stream",
     "text": [
      "\n",
      "\r",
      "Group:   0%|          | 0/351 [00:00<?, ?it/s]"
     ]
    },
    {
     "name": "stderr",
     "output_type": "stream",
     "text": [
      "\r",
      "Group: 100%|██████████| 351/351 [00:00<00:00, 73580.60it/s]"
     ]
    },
    {
     "name": "stderr",
     "output_type": "stream",
     "text": [
      "\n",
      "\r",
      "Aggregate:   0%|          | 0/204 [00:00<?, ?it/s]"
     ]
    },
    {
     "name": "stderr",
     "output_type": "stream",
     "text": [
      "\r",
      "Aggregate: 100%|██████████| 204/204 [00:00<00:00, 55840.11it/s]"
     ]
    },
    {
     "name": "stderr",
     "output_type": "stream",
     "text": [
      "\n",
      "\r",
      "Make rows: 0it [00:00, ?it/s]"
     ]
    },
    {
     "name": "stderr",
     "output_type": "stream",
     "text": [
      "\r",
      "Make rows: 25it [00:00, 23126.95it/s]"
     ]
    },
    {
     "name": "stdout",
     "output_type": "stream",
     "text": [
      "CPU=6.1ms, CUDA=12.6ms\n",
      "+---------------+--------------+--------------+-------------+---------------+---------+\n",
      "| Node          |     Self CPU |          CPU |   Self CUDA |          CUDA |   Count |\n",
      "|---------------+--------------+--------------+-------------+---------------+---------|\n",
      "| AlexNet       | 110.4us (2%) | 6.1ms (100%) | 39.3us (0%) | 12.6ms (100%) |       1 |\n",
      "| ├──classifier | 144.0us (2%) |  2.9ms (47%) | 27.6us (0%) |   7.2ms (57%) |       1 |\n",
      "| │ ├──1        |  62.7us (1%) |  2.3ms (37%) |  4.1us (0%) |   4.7ms (37%) |       1 |\n",
      "| │ ├──4        |  28.7us (0%) |  81.9us (1%) |  3.1us (0%) |   1.9ms (15%) |       1 |\n",
      "| │ ├──6        |  26.8us (0%) |  76.0us (1%) |  4.1us (0%) |  503.8us (4%) |       1 |\n",
      "| │ ├──0        |  35.9us (1%) | 102.4us (2%) |  4.1us (0%) |   22.5us (0%) |       1 |\n",
      "| │ ├──3        |  20.1us (0%) |  60.8us (1%) |  3.1us (0%) |   17.4us (0%) |       1 |\n",
      "| │ ├──2        |  16.0us (0%) |  39.8us (1%) |  4.1us (0%) |   16.4us (0%) |       1 |\n",
      "| │ └──5        |  14.4us (0%) |  35.9us (1%) |  3.1us (0%) |   15.4us (0%) |       1 |\n",
      "| ├──features   | 265.5us (4%) |  3.0ms (48%) | 67.7us (1%) |   5.2ms (41%) |       1 |\n",
      "| │ ├──0        |  79.8us (1%) |  1.4ms (23%) | 40.4us (0%) |   1.6ms (13%) |       1 |\n",
      "| │ ├──3        |  24.2us (0%) | 238.5us (4%) |  4.1us (0%) |    1.1ms (9%) |       1 |\n",
      "| │ ├──8        |  20.7us (0%) | 132.3us (2%) |  3.1us (0%) |  791.6us (6%) |       1 |\n",
      "| │ ├──6        |  22.1us (0%) | 169.6us (3%) |  4.1us (0%) |  612.4us (5%) |       1 |\n",
      "| │ ├──10       |  19.9us (0%) | 127.8us (2%) |  4.1us (0%) |  548.9us (4%) |       1 |\n",
      "| │ ├──2        |  44.0us (1%) | 107.3us (2%) |  4.1us (0%) |   74.8us (1%) |       1 |\n",
      "| │ ├──5        |  17.3us (0%) |  57.7us (1%) |  4.1us (0%) |   59.4us (0%) |       1 |\n",
      "| │ ├──1        |  28.7us (0%) |  76.7us (1%) |  3.1us (0%) |   58.4us (0%) |       1 |\n",
      "| │ ├──4        |  14.9us (0%) |  37.2us (1%) |  3.1us (0%) |   45.1us (0%) |       1 |\n",
      "| │ ├──7        |  14.5us (0%) |  35.9us (1%) |  3.1us (0%) |   32.8us (0%) |       1 |\n",
      "| │ ├──12       |  16.8us (0%) |  56.7us (1%) |  4.1us (0%) |   28.7us (0%) |       1 |\n",
      "| │ ├──11       |  13.8us (0%) |  34.7us (1%) |  4.1us (0%) |   19.5us (0%) |       1 |\n",
      "| │ └──9        |  13.9us (0%) |  34.9us (1%) |  4.1us (0%) |   17.4us (0%) |       1 |\n",
      "| └──avgpool    |  38.5us (1%) |  79.9us (1%) |  4.1us (0%) |   67.6us (1%) |       1 |\n",
      "| aten::zeros   |   9.7us (0%) |  29.0us (0%) | 11.6us (0%) |   28.5us (0%) |       1 |\n",
      "+---------------+--------------+--------------+-------------+---------------+---------+\n"
     ]
    },
    {
     "name": "stderr",
     "output_type": "stream",
     "text": [
      "\n"
     ]
    }
   ],
   "source": [
    "prof.display(min_pct=0)"
   ]
  },
  {
   "cell_type": "code",
   "execution_count": 6,
   "id": "engaging-cocktail",
   "metadata": {
    "collapsed": false
   },
   "outputs": [
    {
     "name": "stderr",
     "output_type": "stream",
     "text": [
      "\r",
      "Make rows: 0it [00:00, ?it/s]"
     ]
    },
    {
     "name": "stderr",
     "output_type": "stream",
     "text": [
      "\r",
      "Make rows: 25it [00:00, 40532.51it/s]"
     ]
    },
    {
     "name": "stdout",
     "output_type": "stream",
     "text": [
      "CPU=6.1ms, CUDA=12.6ms\n",
      "+---------------+--------------+--------------+-------------+---------------+---------+\n",
      "| Node          |     Self CPU |          CPU |   Self CUDA |          CUDA |   Count |\n",
      "|---------------+--------------+--------------+-------------+---------------+---------|\n",
      "| AlexNet       | 110.4us (2%) | 6.1ms (100%) |             | 12.6ms (100%) |       1 |\n",
      "| ├──classifier | 144.0us (2%) |  2.9ms (47%) |             |   7.2ms (57%) |       1 |\n",
      "| │ ├──1        |  62.7us (1%) |  2.3ms (37%) |             |   4.7ms (37%) |       1 |\n",
      "| │ ├──4        |              |  81.9us (1%) |             |   1.9ms (15%) |       1 |\n",
      "| │ ├──6        |              |  76.0us (1%) |             |  503.8us (4%) |       1 |\n",
      "| │ ├──0        |              | 102.4us (2%) |             |               |       1 |\n",
      "| ├──features   | 265.5us (4%) |  3.0ms (48%) |             |   5.2ms (41%) |       1 |\n",
      "| │ ├──0        |  79.8us (1%) |  1.4ms (23%) |             |   1.6ms (13%) |       1 |\n",
      "| │ ├──3        |              | 238.5us (4%) |             |    1.1ms (9%) |       1 |\n",
      "| │ ├──8        |              | 132.3us (2%) |             |  791.6us (6%) |       1 |\n",
      "| │ ├──6        |              | 169.6us (3%) |             |  612.4us (5%) |       1 |\n",
      "| │ ├──10       |              | 127.8us (2%) |             |  548.9us (4%) |       1 |\n",
      "| │ ├──2        |              | 107.3us (2%) |             |               |       1 |\n",
      "| │ ├──1        |              |  76.7us (1%) |             |               |       1 |\n",
      "| └──avgpool    |              |  79.9us (1%) |             |               |       1 |\n",
      "+---------------+--------------+--------------+-------------+---------------+---------+\n"
     ]
    },
    {
     "name": "stderr",
     "output_type": "stream",
     "text": [
      "\n"
     ]
    }
   ],
   "source": [
    "prof.display(min_pct=1)"
   ]
  },
  {
   "cell_type": "code",
   "execution_count": 7,
   "id": "surrounded-complaint",
   "metadata": {
    "collapsed": false
   },
   "outputs": [
    {
     "name": "stderr",
     "output_type": "stream",
     "text": [
      "\r",
      "Make rows: 0it [00:00, ?it/s]"
     ]
    },
    {
     "name": "stderr",
     "output_type": "stream",
     "text": [
      "\r",
      "Make rows: 204it [00:00, 129211.42it/s]"
     ]
    },
    {
     "name": "stdout",
     "output_type": "stream",
     "text": [
      "CPU=6.1ms, CUDA=12.6ms\n",
      "+--------------------------------------+--------------+--------------+--------------+---------------+---------+\n",
      "| Node                                 |     Self CPU |          CPU |    Self CUDA |          CUDA |   Count |\n",
      "|--------------------------------------+--------------+--------------+--------------+---------------+---------|\n",
      "| AlexNet                              | 110.4us (2%) | 6.1ms (100%) |              | 12.6ms (100%) |       1 |\n",
      "| ├──classifier                        | 144.0us (2%) |  2.9ms (47%) |              |   7.2ms (57%) |       1 |\n",
      "| │ ├──1                               |  62.7us (1%) |  2.3ms (37%) |              |   4.7ms (37%) |       1 |\n",
      "| │ │ ├──aten::addmm                   |  2.2ms (36%) |  2.2ms (36%) |  4.7ms (37%) |   4.7ms (37%) |       1 |\n",
      "| │ ├──4                               |              |  81.9us (1%) |              |   1.9ms (15%) |       1 |\n",
      "| │ │ ├──aten::addmm                   |              |              |  1.9ms (15%) |   1.9ms (15%) |       1 |\n",
      "| │ ├──6                               |              |  76.0us (1%) |              |  503.8us (4%) |       1 |\n",
      "| │ │ ├──aten::addmm                   |              |              | 499.7us (4%) |  499.7us (4%) |       1 |\n",
      "| │ ├──aten::zeros                     |              |  88.2us (1%) |              |               |       7 |\n",
      "| │ ├──0                               |              | 102.4us (2%) |              |               |       1 |\n",
      "| │ │ ├──aten::dropout                 |              |  65.7us (1%) |              |               |       1 |\n",
      "| ├──features                          | 265.5us (4%) |  3.0ms (48%) |              |   5.2ms (41%) |       1 |\n",
      "| │ ├──0                               |  79.8us (1%) |  1.4ms (23%) |              |   1.6ms (13%) |       1 |\n",
      "| │ │ ├──aten::conv2d                  |              |  1.3ms (22%) |              |   1.6ms (13%) |       1 |\n",
      "| │ │ │ └──aten::convolution           |              |  1.3ms (22%) |              |   1.6ms (13%) |       1 |\n",
      "| │ │ │   └──aten::_convolution        |              |  1.3ms (21%) |              |   1.6ms (12%) |       1 |\n",
      "| │ │ │     ├──aten::cudnn_convolution |  1.2ms (20%) |  1.2ms (20%) |  1.5ms (12%) |   1.5ms (12%) |       1 |\n",
      "| │ ├──3                               |              | 238.5us (4%) |              |    1.1ms (9%) |       1 |\n",
      "| │ │ ├──aten::conv2d                  |              | 213.5us (3%) |              |    1.1ms (9%) |       1 |\n",
      "| │ │ │ └──aten::convolution           |              | 208.1us (3%) |              |    1.1ms (9%) |       1 |\n",
      "| │ │ │   └──aten::_convolution        |              | 203.2us (3%) |              |    1.1ms (9%) |       1 |\n",
      "| │ │ │     ├──aten::cudnn_convolution |              | 157.8us (3%) |   1.0ms (8%) |    1.0ms (8%) |       1 |\n",
      "| │ │ │     │ ├──aten::empty           |  95.5us (2%) |  95.5us (2%) |              |               |       2 |\n",
      "| │ ├──8                               |              | 132.3us (2%) |              |  791.6us (6%) |       1 |\n",
      "| │ │ ├──aten::conv2d                  |              | 110.8us (2%) |              |  788.5us (6%) |       1 |\n",
      "| │ │ │ └──aten::convolution           |              | 106.2us (2%) |              |  784.4us (6%) |       1 |\n",
      "| │ │ │   └──aten::_convolution        |              | 101.9us (2%) |              |  780.3us (6%) |       1 |\n",
      "| │ │ │     ├──aten::cudnn_convolution |              |  61.8us (1%) | 743.4us (6%) |  747.5us (6%) |       1 |\n",
      "| │ ├──6                               |              | 169.6us (3%) |              |  612.4us (5%) |       1 |\n",
      "| │ │ ├──aten::conv2d                  |              | 146.7us (2%) |              |  608.3us (5%) |       1 |\n",
      "| │ │ │ └──aten::convolution           |              | 142.0us (2%) |              |  604.2us (5%) |       1 |\n",
      "| │ │ │   └──aten::_convolution        |              | 137.6us (2%) |              |  601.1us (5%) |       1 |\n",
      "| │ │ │     ├──aten::cudnn_convolution |  85.7us (1%) |  96.4us (2%) | 558.1us (4%) |  561.2us (4%) |       1 |\n",
      "| │ ├──10                              |              | 127.8us (2%) |              |  548.9us (4%) |       1 |\n",
      "| │ │ ├──aten::conv2d                  |              | 107.0us (2%) |              |  544.8us (4%) |       1 |\n",
      "| │ │ │ └──aten::convolution           |              | 102.5us (2%) |              |  541.7us (4%) |       1 |\n",
      "| │ │ │   └──aten::_convolution        |              |  98.3us (2%) |              |  537.6us (4%) |       1 |\n",
      "| │ │ │     ├──aten::cudnn_convolution |              |              | 501.8us (4%) |  504.8us (4%) |       1 |\n",
      "| │ ├──aten::zeros                     |  68.9us (1%) | 168.7us (3%) |              |               |      13 |\n",
      "| │ │ ├──aten::zero_                   |              |  79.1us (1%) |              |               |      13 |\n",
      "| │ ├──2                               |              | 107.3us (2%) |              |               |       1 |\n",
      "| │ │ ├──aten::max_pool2d              |              |  62.4us (1%) |              |               |       1 |\n",
      "| │ ├──1                               |              |  76.7us (1%) |              |               |       1 |\n",
      "| ├──avgpool                           |              |  79.9us (1%) |              |               |       1 |\n",
      "+--------------------------------------+--------------+--------------+--------------+---------------+---------+\n"
     ]
    },
    {
     "name": "stderr",
     "output_type": "stream",
     "text": [
      "\n"
     ]
    }
   ],
   "source": [
    "prof.display(min_pct=1, filter=[])"
   ]
  },
  {
   "cell_type": "code",
   "execution_count": 9,
   "id": "nonprofit-wrong",
   "metadata": {
    "collapsed": false
   },
   "outputs": [
    {
     "name": "stderr",
     "output_type": "stream",
     "text": [
      "\r",
      "Make rows: 0it [00:00, ?it/s]"
     ]
    },
    {
     "name": "stderr",
     "output_type": "stream",
     "text": [
      "\r",
      "Make rows: 25it [00:00, 39287.22it/s]"
     ]
    },
    {
     "name": "stdout",
     "output_type": "stream",
     "text": [
      "CPU=6.1ms, CUDA=12.6ms\n",
      "+---------------+--------------+--------------+-------------+---------------+---------+\n",
      "| Node          |     Self CPU |          CPU |   Self CUDA |          CUDA |   Count |\n",
      "|---------------+--------------+--------------+-------------+---------------+---------|\n",
      "| AlexNet       | 110.4us (2%) | 6.1ms (100%) | 39.3us (0%) | 12.6ms (100%) |       1 |\n",
      "| ├──features   | 265.5us (4%) |  3.0ms (48%) | 67.7us (1%) |   5.2ms (41%) |       1 |\n",
      "| │ ├──0        |  79.8us (1%) |  1.4ms (23%) | 40.4us (0%) |   1.6ms (13%) |       1 |\n",
      "| │ ├──10       |  19.9us (0%) | 127.8us (2%) |  4.1us (0%) |  548.9us (4%) |       1 |\n",
      "| │ ├──5        |  17.3us (0%) |  57.7us (1%) |  4.1us (0%) |   59.4us (0%) |       1 |\n",
      "| │ ├──12       |  16.8us (0%) |  56.7us (1%) |  4.1us (0%) |   28.7us (0%) |       1 |\n",
      "| │ ├──2        |  44.0us (1%) | 107.3us (2%) |  4.1us (0%) |   74.8us (1%) |       1 |\n",
      "| │ ├──11       |  13.8us (0%) |  34.7us (1%) |  4.1us (0%) |   19.5us (0%) |       1 |\n",
      "| │ ├──3        |  24.2us (0%) | 238.5us (4%) |  4.1us (0%) |    1.1ms (9%) |       1 |\n",
      "| │ ├──6        |  22.1us (0%) | 169.6us (3%) |  4.1us (0%) |  612.4us (5%) |       1 |\n",
      "| │ ├──9        |  13.9us (0%) |  34.9us (1%) |  4.1us (0%) |   17.4us (0%) |       1 |\n",
      "| │ ├──4        |  14.9us (0%) |  37.2us (1%) |  3.1us (0%) |   45.1us (0%) |       1 |\n",
      "| │ ├──1        |  28.7us (0%) |  76.7us (1%) |  3.1us (0%) |   58.4us (0%) |       1 |\n",
      "| │ ├──7        |  14.5us (0%) |  35.9us (1%) |  3.1us (0%) |   32.8us (0%) |       1 |\n",
      "| │ └──8        |  20.7us (0%) | 132.3us (2%) |  3.1us (0%) |  791.6us (6%) |       1 |\n",
      "| ├──classifier | 144.0us (2%) |  2.9ms (47%) | 27.6us (0%) |   7.2ms (57%) |       1 |\n",
      "| │ ├──2        |  16.0us (0%) |  39.8us (1%) |  4.1us (0%) |   16.4us (0%) |       1 |\n",
      "| │ ├──1        |  62.7us (1%) |  2.3ms (37%) |  4.1us (0%) |   4.7ms (37%) |       1 |\n",
      "| │ ├──6        |  26.8us (0%) |  76.0us (1%) |  4.1us (0%) |  503.8us (4%) |       1 |\n",
      "| │ ├──0        |  35.9us (1%) | 102.4us (2%) |  4.1us (0%) |   22.5us (0%) |       1 |\n",
      "| │ ├──4        |  28.7us (0%) |  81.9us (1%) |  3.1us (0%) |   1.9ms (15%) |       1 |\n",
      "| │ ├──5        |  14.4us (0%) |  35.9us (1%) |  3.1us (0%) |   15.4us (0%) |       1 |\n",
      "| │ └──3        |  20.1us (0%) |  60.8us (1%) |  3.1us (0%) |   17.4us (0%) |       1 |\n",
      "| └──avgpool    |  38.5us (1%) |  79.9us (1%) |  4.1us (0%) |   67.6us (1%) |       1 |\n",
      "| aten::zeros   |   9.7us (0%) |  29.0us (0%) | 11.6us (0%) |   28.5us (0%) |       1 |\n",
      "+---------------+--------------+--------------+-------------+---------------+---------+\n"
     ]
    },
    {
     "name": "stderr",
     "output_type": "stream",
     "text": [
      "\n"
     ]
    }
   ],
   "source": [
    "prof.display(sort_by=[\"self_cuda_time\"], min_pct=0)"
   ]
  }
 ],
 "metadata": {
  "kernelspec": {
   "argv": [
    "python",
    "-m",
    "ipykernel_launcher",
    "-f",
    "{connection_file}"
   ],
   "display_name": "Python 3",
   "env": null,
   "interrupt_mode": "signal",
   "language": "python",
   "metadata": null,
   "name": "python3"
  },
  "name": "demo.ipynb"
 },
 "nbformat": 4,
 "nbformat_minor": 5
}

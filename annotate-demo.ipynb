{
 "cells": [
  {
   "cell_type": "code",
   "execution_count": 1,
   "id": "spoken-medication",
   "metadata": {
    "collapsed": false
   },
   "outputs": [],
   "source": [
    "%reload_ext autoreload\n",
    "%autoreload 2\n",
    "\n",
    "from IPython.core.interactiveshell import InteractiveShell\n",
    "InteractiveShell.ast_node_interactivity = \"all\""
   ]
  },
  {
   "cell_type": "code",
   "execution_count": 2,
   "id": "applicable-command",
   "metadata": {
    "collapsed": false
   },
   "outputs": [],
   "source": [
    "import torch\n",
    "import torchvision\n",
    "import torchprof as tp\n",
    "import time\n",
    "\n",
    "model = torchvision.models.alexnet(pretrained=False).cuda()\n",
    "x = torch.rand([1, 3, 224, 224]).cuda()\n"
   ]
  },
  {
   "cell_type": "markdown",
   "id": "organizational-spectacular",
   "metadata": {
    "collapsed": false
   },
   "source": [
    "# Regions"
   ]
  },
  {
   "cell_type": "code",
   "execution_count": 3,
   "id": "correct-visiting",
   "metadata": {
    "collapsed": false
   },
   "outputs": [
    {
     "name": "stderr",
     "output_type": "stream",
     "text": [
      "\r",
      "Adding traces:   0%|          | 0/24 [00:00<?, ?it/s]"
     ]
    },
    {
     "name": "stderr",
     "output_type": "stream",
     "text": [
      "\r",
      "Adding traces: 100%|██████████| 24/24 [00:00<00:00, 87154.37it/s]"
     ]
    },
    {
     "name": "stderr",
     "output_type": "stream",
     "text": [
      "\n"
     ]
    },
    {
     "name": "stderr",
     "output_type": "stream",
     "text": [
      "\r",
      "Removing traces:   0%|          | 0/24 [00:00<?, ?it/s]"
     ]
    },
    {
     "name": "stderr",
     "output_type": "stream",
     "text": [
      "\r",
      "Removing traces: 100%|██████████| 24/24 [00:00<00:00, 150919.48it/s]"
     ]
    },
    {
     "name": "stderr",
     "output_type": "stream",
     "text": [
      "\n",
      "\r",
      "Make Events:   0%|          | 0/262 [00:00<?, ?it/s]"
     ]
    },
    {
     "name": "stderr",
     "output_type": "stream",
     "text": [
      "\r",
      "Make Events: 100%|██████████| 262/262 [00:00<00:00, 69612.80it/s]"
     ]
    },
    {
     "name": "stderr",
     "output_type": "stream",
     "text": [
      "\n",
      "\r",
      "Populate ancestors:   0%|          | 0/262 [00:00<?, ?it/s]"
     ]
    },
    {
     "name": "stderr",
     "output_type": "stream",
     "text": [
      "\r",
      "Populate ancestors: 100%|██████████| 262/262 [00:00<00:00, 302979.78it/s]"
     ]
    },
    {
     "name": "stderr",
     "output_type": "stream",
     "text": [
      "\n",
      "\r",
      "Group:   0%|          | 0/262 [00:00<?, ?it/s]"
     ]
    },
    {
     "name": "stderr",
     "output_type": "stream",
     "text": [
      "\r",
      "Group: 100%|██████████| 262/262 [00:00<00:00, 153072.52it/s]"
     ]
    },
    {
     "name": "stderr",
     "output_type": "stream",
     "text": [
      "\n",
      "\r",
      "Aggregate:   0%|          | 0/184 [00:00<?, ?it/s]"
     ]
    },
    {
     "name": "stderr",
     "output_type": "stream",
     "text": [
      "\r",
      "Aggregate: 100%|██████████| 184/184 [00:00<00:00, 98942.56it/s]"
     ]
    },
    {
     "name": "stderr",
     "output_type": "stream",
     "text": [
      "\n",
      "\r",
      "Make rows: 0it [00:00, ?it/s]"
     ]
    },
    {
     "name": "stderr",
     "output_type": "stream",
     "text": [
      "\r",
      "Make rows: 28it [00:00, 2998.53it/s]"
     ]
    },
    {
     "name": "stdout",
     "output_type": "stream",
     "text": [
      "\n",
      "\n",
      "CPU=1.0s, CUDA=1.0s\n",
      "+---------------------------+------------+-------------+-------------+-------------+-----+\n",
      "| Node                      |   Self CPU |         CPU |   Self CUDA |        CUDA |   # |\n",
      "|---------------------------+------------+-------------+-------------+-------------+-----|\n",
      "| \u001b[1;37m<\u001b[0m\u001b[1;37mtorchprof\u001b[0m\u001b[1;37m>\u001b[0m               |            | \u001b[1;37m1.\u001b[0m\u001b[37m0s \u001b[0m\u001b[1;37m(\u001b[0m\u001b[1;37m100\u001b[0m\u001b[37m%\u001b[0m\u001b[1;37m)\u001b[0m |             | \u001b[1;37m1.\u001b[0m\u001b[37m0s \u001b[0m\u001b[1;37m(\u001b[0m\u001b[1;37m100\u001b[0m\u001b[37m%\u001b[0m\u001b[1;37m)\u001b[0m |   \u001b[1;37m1\u001b[0m |\n",
      "| \u001b[31m ├──Another region\u001b[0m        | \u001b[1;31m1.\u001b[0m\u001b[31m0s \u001b[0m\u001b[1;31m(\u001b[0m\u001b[1;31m98\u001b[0m\u001b[31m%\u001b[0m\u001b[1;31m)\u001b[0m |  \u001b[1;31m1.\u001b[0m\u001b[31m0s \u001b[0m\u001b[1;31m(\u001b[0m\u001b[1;31m98\u001b[0m\u001b[31m%\u001b[0m\u001b[1;31m)\u001b[0m |  \u001b[1;31m1.\u001b[0m\u001b[31m0s \u001b[0m\u001b[1;31m(\u001b[0m\u001b[1;31m98\u001b[0m\u001b[31m%\u001b[0m\u001b[1;31m)\u001b[0m |  \u001b[1;31m1.\u001b[0m\u001b[31m0s \u001b[0m\u001b[1;31m(\u001b[0m\u001b[1;31m98\u001b[0m\u001b[31m%\u001b[0m\u001b[1;31m)\u001b[0m |   \u001b[1;31m1\u001b[0m |\n",
      "| \u001b[31m └──Arbitrary region name\u001b[0m |            | \u001b[1;31m16.\u001b[0m\u001b[31m5ms \u001b[0m\u001b[1;31m(\u001b[0m\u001b[1;31m2\u001b[0m\u001b[31m%\u001b[0m\u001b[1;31m)\u001b[0m |             | \u001b[1;31m16.\u001b[0m\u001b[31m5ms \u001b[0m\u001b[1;31m(\u001b[0m\u001b[1;31m2\u001b[0m\u001b[31m%\u001b[0m\u001b[1;31m)\u001b[0m |   \u001b[1;31m1\u001b[0m |\n",
      "| \u001b[32m   └──AlexNet\u001b[0m             |            | \u001b[1;32m16.\u001b[0m\u001b[32m4ms \u001b[0m\u001b[1;32m(\u001b[0m\u001b[1;32m2\u001b[0m\u001b[32m%\u001b[0m\u001b[1;32m)\u001b[0m |             | \u001b[1;32m16.\u001b[0m\u001b[32m5ms \u001b[0m\u001b[1;32m(\u001b[0m\u001b[1;32m2\u001b[0m\u001b[32m%\u001b[0m\u001b[1;32m)\u001b[0m |   \u001b[1;32m1\u001b[0m |\n",
      "+---------------------------+------------+-------------+-------------+-------------+-----+\n"
     ]
    },
    {
     "name": "stderr",
     "output_type": "stream",
     "text": [
      "\n"
     ]
    }
   ],
   "source": [
    "with tp.profile(model, use_cuda=True) as prof:\n",
    "    with tp.region(\"Arbitrary region name\"):\n",
    "        _ = model(x)\n",
    "    with tp.region(\"Another region\"):\n",
    "        time.sleep(1)\n",
    "\n",
    "prof.display()"
   ]
  },
  {
   "cell_type": "markdown",
   "id": "written-generator",
   "metadata": {
    "collapsed": false
   },
   "source": [
    "# Functions"
   ]
  },
  {
   "cell_type": "code",
   "execution_count": 4,
   "id": "saving-proxy",
   "metadata": {
    "collapsed": false
   },
   "outputs": [
    {
     "name": "stderr",
     "output_type": "stream",
     "text": [
      "\r",
      "Adding traces:   0%|          | 0/24 [00:00<?, ?it/s]"
     ]
    },
    {
     "name": "stderr",
     "output_type": "stream",
     "text": [
      "\r",
      "Adding traces: 100%|██████████| 24/24 [00:00<00:00, 47393.27it/s]"
     ]
    },
    {
     "name": "stderr",
     "output_type": "stream",
     "text": [
      "\n",
      "\r",
      "Removing traces:   0%|          | 0/24 [00:00<?, ?it/s]"
     ]
    },
    {
     "name": "stderr",
     "output_type": "stream",
     "text": [
      "\r",
      "Removing traces: 100%|██████████| 24/24 [00:00<00:00, 156796.41it/s]"
     ]
    },
    {
     "name": "stderr",
     "output_type": "stream",
     "text": [
      "\n",
      "\r",
      "Make Events:   0%|          | 0/257 [00:00<?, ?it/s]"
     ]
    },
    {
     "name": "stderr",
     "output_type": "stream",
     "text": [
      "\r",
      "Make Events: 100%|██████████| 257/257 [00:00<00:00, 74908.70it/s]"
     ]
    },
    {
     "name": "stderr",
     "output_type": "stream",
     "text": [
      "\n",
      "\r",
      "Populate ancestors:   0%|          | 0/257 [00:00<?, ?it/s]"
     ]
    },
    {
     "name": "stderr",
     "output_type": "stream",
     "text": [
      "\r",
      "Populate ancestors: 100%|██████████| 257/257 [00:00<00:00, 318162.97it/s]"
     ]
    },
    {
     "name": "stderr",
     "output_type": "stream",
     "text": [
      "\n",
      "\r",
      "Group:   0%|          | 0/257 [00:00<?, ?it/s]"
     ]
    },
    {
     "name": "stderr",
     "output_type": "stream",
     "text": [
      "\r",
      "Group: 100%|██████████| 257/257 [00:00<00:00, 149133.39it/s]"
     ]
    },
    {
     "name": "stderr",
     "output_type": "stream",
     "text": [
      "\n",
      "\r",
      "Aggregate:   0%|          | 0/182 [00:00<?, ?it/s]"
     ]
    },
    {
     "name": "stderr",
     "output_type": "stream",
     "text": [
      "\r",
      "Aggregate: 100%|██████████| 182/182 [00:00<00:00, 117224.10it/s]"
     ]
    },
    {
     "name": "stderr",
     "output_type": "stream",
     "text": [
      "\n",
      "\r",
      "Make rows: 0it [00:00, ?it/s]"
     ]
    },
    {
     "name": "stderr",
     "output_type": "stream",
     "text": [
      "\r",
      "Make rows: 27it [00:00, 1329.81it/s]"
     ]
    },
    {
     "name": "stdout",
     "output_type": "stream",
     "text": [
      "\n",
      "\n",
      "CPU=13.7ms, CUDA=0.0µs\n",
      "+--------------------+--------------+---------------+-------------+--------+-----+\n",
      "| Node               |     Self CPU |           CPU |   Self CUDA |   CUDA |   # |\n",
      "|--------------------+--------------+---------------+-------------+--------+-----|\n",
      "| \u001b[1;37m<\u001b[0m\u001b[1;37mtorchprof\u001b[0m\u001b[1;37m>\u001b[0m        | \u001b[1;37m281.\u001b[0m\u001b[37m0µs \u001b[0m\u001b[1;37m(\u001b[0m\u001b[1;37m2\u001b[0m\u001b[37m%\u001b[0m\u001b[1;37m)\u001b[0m | \u001b[1;37m13.\u001b[0m\u001b[37m7ms \u001b[0m\u001b[1;37m(\u001b[0m\u001b[1;37m100\u001b[0m\u001b[37m%\u001b[0m\u001b[1;37m)\u001b[0m |             |        |   \u001b[1;37m1\u001b[0m |\n",
      "| \u001b[31m └──foo\u001b[0m\u001b[1;31m(\u001b[0m\u001b[1;31m)\u001b[0m          |              |  \u001b[1;31m13.\u001b[0m\u001b[31m4ms \u001b[0m\u001b[1;31m(\u001b[0m\u001b[1;31m98\u001b[0m\u001b[31m%\u001b[0m\u001b[1;31m)\u001b[0m |             |        |   \u001b[1;31m1\u001b[0m |\n",
      "| \u001b[32m   └──AlexNet\u001b[0m      | \u001b[1;32m211.\u001b[0m\u001b[32m0µs \u001b[0m\u001b[1;32m(\u001b[0m\u001b[1;32m2\u001b[0m\u001b[32m%\u001b[0m\u001b[1;32m)\u001b[0m |  \u001b[1;32m13.\u001b[0m\u001b[32m2ms \u001b[0m\u001b[1;32m(\u001b[0m\u001b[1;32m97\u001b[0m\u001b[32m%\u001b[0m\u001b[1;32m)\u001b[0m |             |        |   \u001b[1;32m1\u001b[0m |\n",
      "| \u001b[34m     ├──features\u001b[0m   | \u001b[1;34m651.\u001b[0m\u001b[34m3µs \u001b[0m\u001b[1;34m(\u001b[0m\u001b[1;34m5\u001b[0m\u001b[34m%\u001b[0m\u001b[1;34m)\u001b[0m |   \u001b[1;34m5.\u001b[0m\u001b[34m3ms \u001b[0m\u001b[1;34m(\u001b[0m\u001b[1;34m39\u001b[0m\u001b[34m%\u001b[0m\u001b[1;34m)\u001b[0m |             |        |   \u001b[1;34m1\u001b[0m |\n",
      "| \u001b[33m     │ ├──\u001b[0m\u001b[1;33m8\u001b[0m        | \u001b[1;33m720.\u001b[0m\u001b[33m0µs \u001b[0m\u001b[1;33m(\u001b[0m\u001b[1;33m5\u001b[0m\u001b[33m%\u001b[0m\u001b[1;33m)\u001b[0m |  \u001b[1;33m803.\u001b[0m\u001b[33m5µs \u001b[0m\u001b[1;33m(\u001b[0m\u001b[1;33m6\u001b[0m\u001b[33m%\u001b[0m\u001b[1;33m)\u001b[0m |             |        |   \u001b[1;33m1\u001b[0m |\n",
      "| \u001b[33m     │ ├──\u001b[0m\u001b[1;33m0\u001b[0m        | \u001b[1;33m252.\u001b[0m\u001b[33m0µs \u001b[0m\u001b[1;33m(\u001b[0m\u001b[1;33m2\u001b[0m\u001b[33m%\u001b[0m\u001b[1;33m)\u001b[0m |  \u001b[1;33m713.\u001b[0m\u001b[33m1µs \u001b[0m\u001b[1;33m(\u001b[0m\u001b[1;33m5\u001b[0m\u001b[33m%\u001b[0m\u001b[1;33m)\u001b[0m |             |        |   \u001b[1;33m1\u001b[0m |\n",
      "| \u001b[33m     │ ├──\u001b[0m\u001b[1;33m5\u001b[0m        |              |  \u001b[1;33m224.\u001b[0m\u001b[33m5µs \u001b[0m\u001b[1;33m(\u001b[0m\u001b[1;33m2\u001b[0m\u001b[33m%\u001b[0m\u001b[1;33m)\u001b[0m |             |        |   \u001b[1;33m1\u001b[0m |\n",
      "| \u001b[33m     │ ├──\u001b[0m\u001b[1;33m3\u001b[0m        | \u001b[1;33m940.\u001b[0m\u001b[33m8µs \u001b[0m\u001b[1;33m(\u001b[0m\u001b[1;33m7\u001b[0m\u001b[33m%\u001b[0m\u001b[1;33m)\u001b[0m |    \u001b[1;33m1.\u001b[0m\u001b[33m0ms \u001b[0m\u001b[1;33m(\u001b[0m\u001b[1;33m8\u001b[0m\u001b[33m%\u001b[0m\u001b[1;33m)\u001b[0m |             |        |   \u001b[1;33m1\u001b[0m |\n",
      "| \u001b[33m     │ ├──\u001b[0m\u001b[1;33m6\u001b[0m        | \u001b[1;33m551.\u001b[0m\u001b[33m9µs \u001b[0m\u001b[1;33m(\u001b[0m\u001b[1;33m4\u001b[0m\u001b[33m%\u001b[0m\u001b[1;33m)\u001b[0m |  \u001b[1;33m655.\u001b[0m\u001b[33m6µs \u001b[0m\u001b[1;33m(\u001b[0m\u001b[1;33m5\u001b[0m\u001b[33m%\u001b[0m\u001b[1;33m)\u001b[0m |             |        |   \u001b[1;33m1\u001b[0m |\n",
      "| \u001b[33m     │ ├──\u001b[0m\u001b[1;33m10\u001b[0m       | \u001b[1;33m493.\u001b[0m\u001b[33m6µs \u001b[0m\u001b[1;33m(\u001b[0m\u001b[1;33m4\u001b[0m\u001b[33m%\u001b[0m\u001b[1;33m)\u001b[0m |  \u001b[1;33m575.\u001b[0m\u001b[33m0µs \u001b[0m\u001b[1;33m(\u001b[0m\u001b[1;33m4\u001b[0m\u001b[33m%\u001b[0m\u001b[1;33m)\u001b[0m |             |        |   \u001b[1;33m1\u001b[0m |\n",
      "| \u001b[34m     ├──classifier\u001b[0m | \u001b[1;34m329.\u001b[0m\u001b[34m9µs \u001b[0m\u001b[1;34m(\u001b[0m\u001b[1;34m2\u001b[0m\u001b[34m%\u001b[0m\u001b[1;34m)\u001b[0m |   \u001b[1;34m7.\u001b[0m\u001b[34m6ms \u001b[0m\u001b[1;34m(\u001b[0m\u001b[1;34m56\u001b[0m\u001b[34m%\u001b[0m\u001b[1;34m)\u001b[0m |             |        |   \u001b[1;34m1\u001b[0m |\n",
      "| \u001b[33m     │ ├──\u001b[0m\u001b[1;33m1\u001b[0m        |  \u001b[1;33m4.\u001b[0m\u001b[33m4ms \u001b[0m\u001b[1;33m(\u001b[0m\u001b[1;33m32\u001b[0m\u001b[33m%\u001b[0m\u001b[1;33m)\u001b[0m |   \u001b[1;33m4.\u001b[0m\u001b[33m5ms \u001b[0m\u001b[1;33m(\u001b[0m\u001b[1;33m33\u001b[0m\u001b[33m%\u001b[0m\u001b[1;33m)\u001b[0m |             |        |   \u001b[1;33m1\u001b[0m |\n",
      "| \u001b[33m     │ ├──\u001b[0m\u001b[1;33m6\u001b[0m        | \u001b[1;33m519.\u001b[0m\u001b[33m0µs \u001b[0m\u001b[1;33m(\u001b[0m\u001b[1;33m4\u001b[0m\u001b[33m%\u001b[0m\u001b[1;33m)\u001b[0m |  \u001b[1;33m565.\u001b[0m\u001b[33m5µs \u001b[0m\u001b[1;33m(\u001b[0m\u001b[1;33m4\u001b[0m\u001b[33m%\u001b[0m\u001b[1;33m)\u001b[0m |             |        |   \u001b[1;33m1\u001b[0m |\n",
      "| \u001b[33m     │ ├──\u001b[0m\u001b[1;33m4\u001b[0m        |  \u001b[1;33m1.\u001b[0m\u001b[33m9ms \u001b[0m\u001b[1;33m(\u001b[0m\u001b[1;33m14\u001b[0m\u001b[33m%\u001b[0m\u001b[1;33m)\u001b[0m |   \u001b[1;33m1.\u001b[0m\u001b[33m9ms \u001b[0m\u001b[1;33m(\u001b[0m\u001b[1;33m14\u001b[0m\u001b[33m%\u001b[0m\u001b[1;33m)\u001b[0m |             |        |   \u001b[1;33m1\u001b[0m |\n",
      "+--------------------+--------------+---------------+-------------+--------+-----+\n"
     ]
    },
    {
     "name": "stderr",
     "output_type": "stream",
     "text": [
      "\n"
     ]
    }
   ],
   "source": [
    "@tp.func()\n",
    "def foo():\n",
    "    _ = model(x)\n",
    "\n",
    "with tp.profile(model) as prof:\n",
    "    foo()\n",
    "\n",
    "prof.display()    "
   ]
  },
  {
   "cell_type": "markdown",
   "id": "convinced-church",
   "metadata": {
    "collapsed": false
   },
   "source": [
    "# Iterators"
   ]
  },
  {
   "cell_type": "code",
   "execution_count": 5,
   "id": "swedish-aviation",
   "metadata": {
    "collapsed": false
   },
   "outputs": [
    {
     "name": "stderr",
     "output_type": "stream",
     "text": [
      "\r",
      "Adding traces:   0%|          | 0/24 [00:00<?, ?it/s]"
     ]
    },
    {
     "name": "stderr",
     "output_type": "stream",
     "text": [
      "\r",
      "Adding traces: 100%|██████████| 24/24 [00:00<00:00, 114781.41it/s]"
     ]
    },
    {
     "name": "stderr",
     "output_type": "stream",
     "text": [
      "\n"
     ]
    },
    {
     "name": "stderr",
     "output_type": "stream",
     "text": [
      "\r",
      "Removing traces:   0%|          | 0/24 [00:00<?, ?it/s]"
     ]
    },
    {
     "name": "stderr",
     "output_type": "stream",
     "text": [
      "\r",
      "Removing traces: 100%|██████████| 24/24 [00:00<00:00, 142582.57it/s]"
     ]
    },
    {
     "name": "stderr",
     "output_type": "stream",
     "text": [
      "\n",
      "\r",
      "Make Events:   0%|          | 0/45 [00:00<?, ?it/s]"
     ]
    },
    {
     "name": "stderr",
     "output_type": "stream",
     "text": [
      "\r",
      "Make Events: 100%|██████████| 45/45 [00:00<00:00, 68286.43it/s]"
     ]
    },
    {
     "name": "stderr",
     "output_type": "stream",
     "text": [
      "\n",
      "\r",
      "Populate ancestors:   0%|          | 0/45 [00:00<?, ?it/s]"
     ]
    },
    {
     "name": "stderr",
     "output_type": "stream",
     "text": [
      "\r",
      "Populate ancestors: 100%|██████████| 45/45 [00:00<00:00, 186137.75it/s]"
     ]
    },
    {
     "name": "stderr",
     "output_type": "stream",
     "text": [
      "\n",
      "\r",
      "Group:   0%|          | 0/45 [00:00<?, ?it/s]"
     ]
    },
    {
     "name": "stderr",
     "output_type": "stream",
     "text": [
      "\r",
      "Group: 100%|██████████| 45/45 [00:00<00:00, 144742.09it/s]"
     ]
    },
    {
     "name": "stderr",
     "output_type": "stream",
     "text": [
      "\n",
      "\r",
      "Aggregate:   0%|          | 0/17 [00:00<?, ?it/s]"
     ]
    },
    {
     "name": "stderr",
     "output_type": "stream",
     "text": [
      "\r",
      "Aggregate: 100%|██████████| 17/17 [00:00<00:00, 69700.07it/s]"
     ]
    },
    {
     "name": "stderr",
     "output_type": "stream",
     "text": [
      "\n",
      "\r",
      "Make rows: 0it [00:00, ?it/s]"
     ]
    },
    {
     "name": "stderr",
     "output_type": "stream",
     "text": [
      "\r",
      "Make rows: 5it [00:00, 828.13it/s]"
     ]
    },
    {
     "name": "stdout",
     "output_type": "stream",
     "text": [
      "\n",
      "\n",
      "CPU=1.7s, CUDA=0.0µs\n",
      "+-----------------+----------------------+----------------------+-------------+--------+-----+\n",
      "| Node            |             Self CPU |                  CPU |   Self CUDA |   CUDA |   # |\n",
      "|-----------------+----------------------+----------------------+-------------+--------+-----|\n",
      "| \u001b[1;37m<\u001b[0m\u001b[1;37mtorchprof\u001b[0m\u001b[1;37m>\u001b[0m     |                      |          \u001b[1;37m1.\u001b[0m\u001b[37m7s \u001b[0m\u001b[1;37m(\u001b[0m\u001b[1;37m100\u001b[0m\u001b[37m%\u001b[0m\u001b[1;37m)\u001b[0m |             |        |   \u001b[1;37m1\u001b[0m |\n",
      "| \u001b[31m ├──next\u001b[0m\u001b[1;31m(\u001b[0m\u001b[31mfoo\u001b[0m\u001b[1;31m)\u001b[0m   |   \u001b[1;31m1.\u001b[0m\u001b[31m5s/\u001b[0m\u001b[1;31m375.\u001b[0m\u001b[31m8ms \u001b[0m\u001b[1;31m(\u001b[0m\u001b[1;31m88\u001b[0m\u001b[31m%\u001b[0m\u001b[1;31m)\u001b[0m |   \u001b[1;31m1.\u001b[0m\u001b[31m5s/\u001b[0m\u001b[1;31m375.\u001b[0m\u001b[31m9ms \u001b[0m\u001b[1;31m(\u001b[0m\u001b[1;31m88\u001b[0m\u001b[31m%\u001b[0m\u001b[1;31m)\u001b[0m |             |        |   \u001b[1;31m4\u001b[0m |\n",
      "| \u001b[31m └──renamed\u001b[0m     |                      |        \u001b[1;31m201.\u001b[0m\u001b[31m7ms \u001b[0m\u001b[1;31m(\u001b[0m\u001b[1;31m12\u001b[0m\u001b[31m%\u001b[0m\u001b[1;31m)\u001b[0m |             |        |   \u001b[1;31m1\u001b[0m |\n",
      "| \u001b[32m   └──next\u001b[0m\u001b[1;32m(\u001b[0m\u001b[32mbar\u001b[0m\u001b[1;32m)\u001b[0m | \u001b[1;32m201.\u001b[0m\u001b[32m4ms/\u001b[0m\u001b[1;32m67.\u001b[0m\u001b[32m1ms \u001b[0m\u001b[1;32m(\u001b[0m\u001b[1;32m12\u001b[0m\u001b[32m%\u001b[0m\u001b[1;32m)\u001b[0m | \u001b[1;32m201.\u001b[0m\u001b[32m4ms/\u001b[0m\u001b[1;32m67.\u001b[0m\u001b[32m1ms \u001b[0m\u001b[1;32m(\u001b[0m\u001b[1;32m12\u001b[0m\u001b[32m%\u001b[0m\u001b[1;32m)\u001b[0m |             |        |   \u001b[1;32m3\u001b[0m |\n",
      "+-----------------+----------------------+----------------------+-------------+--------+-----+\n"
     ]
    },
    {
     "name": "stderr",
     "output_type": "stream",
     "text": [
      "\n"
     ]
    }
   ],
   "source": [
    "foo = tp.iter()(time.sleep(0.5) for _ in range(3))\n",
    "foo2 = tp.iter(\"bar\")(time.sleep(0.1) for _ in range(2))\n",
    "\n",
    "with tp.profile(model) as prof:\n",
    "    _ = list(foo)\n",
    "    with tp.region(\"renamed\"):\n",
    "        _ = list(foo2)\n",
    "\n",
    "prof.display()    "
   ]
  },
  {
   "cell_type": "markdown",
   "id": "opened-pastor",
   "metadata": {
    "collapsed": false
   },
   "source": [
    "# Global Settings"
   ]
  },
  {
   "cell_type": "code",
   "execution_count": 6,
   "id": "meaningful-suspension",
   "metadata": {
    "collapsed": false
   },
   "outputs": [
    {
     "name": "stderr",
     "output_type": "stream",
     "text": [
      "\r",
      "Adding traces:   0%|          | 0/24 [00:00<?, ?it/s]"
     ]
    },
    {
     "name": "stderr",
     "output_type": "stream",
     "text": [
      "\r",
      "Adding traces: 100%|██████████| 24/24 [00:00<00:00, 92013.98it/s]"
     ]
    },
    {
     "name": "stderr",
     "output_type": "stream",
     "text": [
      "\n"
     ]
    },
    {
     "name": "stderr",
     "output_type": "stream",
     "text": [
      "\r",
      "Removing traces:   0%|          | 0/24 [00:00<?, ?it/s]"
     ]
    },
    {
     "name": "stderr",
     "output_type": "stream",
     "text": [
      "\r",
      "Removing traces: 100%|██████████| 24/24 [00:00<00:00, 129055.51it/s]"
     ]
    },
    {
     "name": "stderr",
     "output_type": "stream",
     "text": [
      "\n",
      "\r",
      "Make Events: 0it [00:00, ?it/s]"
     ]
    },
    {
     "name": "stderr",
     "output_type": "stream",
     "text": [
      "\r",
      "Make Events: 0it [00:00, ?it/s]"
     ]
    },
    {
     "name": "stderr",
     "output_type": "stream",
     "text": [
      "\n",
      "\r",
      "Populate ancestors: 0it [00:00, ?it/s]"
     ]
    },
    {
     "name": "stderr",
     "output_type": "stream",
     "text": [
      "\r",
      "Populate ancestors: 0it [00:00, ?it/s]"
     ]
    },
    {
     "name": "stderr",
     "output_type": "stream",
     "text": [
      "\n",
      "\r",
      "Group: 0it [00:00, ?it/s]"
     ]
    },
    {
     "name": "stderr",
     "output_type": "stream",
     "text": [
      "\r",
      "Group: 0it [00:00, ?it/s]"
     ]
    },
    {
     "name": "stderr",
     "output_type": "stream",
     "text": [
      "\n",
      "\r",
      "Aggregate: 0it [00:00, ?it/s]"
     ]
    },
    {
     "name": "stderr",
     "output_type": "stream",
     "text": [
      "\r",
      "Aggregate: 0it [00:00, ?it/s]"
     ]
    },
    {
     "name": "stdout",
     "output_type": "stream",
     "text": [
      "\n",
      "\n",
      "CPU=0.0µs, CUDA=0.0µs\n"
     ]
    },
    {
     "name": "stderr",
     "output_type": "stream",
     "text": [
      "\n"
     ]
    }
   ],
   "source": [
    "with tp.global_settings(enabled=False):\n",
    "    with tp.profile(model) as prof:\n",
    "        with tp.region(\"foo\"):\n",
    "            time.sleep(1)\n",
    "\n",
    "prof.display()"
   ]
  },
  {
   "cell_type": "code",
   "execution_count": 7,
   "id": "written-variety",
   "metadata": {
    "collapsed": false
   },
   "outputs": [],
   "source": [
    "# For use with Nsight systems etc.\n",
    "with tp.global_settings(nvtx=True):\n",
    "    with tp.region(\"foo\"):\n",
    "        time.sleep(1)\n"
   ]
  }
 ],
 "metadata": {
  "kernelspec": {
   "argv": [
    "python",
    "-m",
    "ipykernel_launcher",
    "-f",
    "{connection_file}"
   ],
   "display_name": "Python 3",
   "env": null,
   "interrupt_mode": "signal",
   "language": "python",
   "metadata": null,
   "name": "python3"
  },
  "name": "annotate-demo.ipynb"
 },
 "nbformat": 4,
 "nbformat_minor": 5
}
